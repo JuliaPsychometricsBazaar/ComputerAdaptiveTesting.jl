{
 "cells": [
  {
   "cell_type": "markdown",
   "source": [
    "This example shows how to run a CAT end-to-end on real data.\n",
    "\n",
    "First a 1-dimensional IRT model is fitted based on open response data to the\n",
    "vocabulary IQ test using the IRTSupport package which internally, this uses\n",
    "the `mirt` R package. Next, the model is used to administer the test\n",
    "interactively."
   ],
   "metadata": {}
  },
  {
   "outputs": [],
   "cell_type": "code",
   "source": [
    "using Base.Filesystem\n",
    "using ComputerAdaptiveTesting\n",
    "using ComputerAdaptiveTesting.DummyData: std_normal\n",
    "using ComputerAdaptiveTesting.ExtraDistributions\n",
    "using ComputerAdaptiveTesting.Sim\n",
    "using ComputerAdaptiveTesting.NextItemRules\n",
    "using ComputerAdaptiveTesting.TerminationConditions\n",
    "using ComputerAdaptiveTesting.Aggregators\n",
    "using ComputerAdaptiveTesting.ItemBanks\n",
    "using ComputerAdaptiveTesting.Integrators\n",
    "using ComputerAdaptiveTesting.Optimizers\n",
    "import ComputerAdaptiveTesting.IntegralCoeffs\n",
    "using IRTSupport.Datasets.VocabIQ\n",
    "\n",
    "function run_vocab_iq_cat()\n",
    "    item_bank = get_item_bank_cached()\n",
    "    integrator = FixedGKIntegrator(-6, 6, 61)\n",
    "    ability_integrator = AbilityIntegrator(integrator)\n",
    "    dist_ability_est = PriorAbilityEstimator(std_normal)\n",
    "    optimizer = AbilityOptimizer(OneDimOptimOptimizer(-6.0, 6.0, NelderMead()))\n",
    "    ability_estimator = ModeAbilityEstimator(dist_ability_est, optimizer)\n",
    "    @info \"run_cat\" ability_estimator\n",
    "    rules = CatRules(\n",
    "        ability_estimator,\n",
    "        AbilityVarianceStateCriterion(dist_ability_est, ability_integrator),\n",
    "        FixedItemsTerminationCondition(45)\n",
    "    )\n",
    "    function get_response(response_idx, response_name)\n",
    "        params = item_params(item_bank, response_idx)\n",
    "        println(\"Parameters for next question: $params\")\n",
    "        VocabIQ.prompt_response(response_idx)\n",
    "    end\n",
    "    function new_response_callback(tracked_responses, terminating)\n",
    "        if tracked_responses.responses.values[end] > 0\n",
    "            println(\"Correct\")\n",
    "        else\n",
    "            println(\"Wrong\")\n",
    "        end\n",
    "        ability = ability_estimator(tracked_responses)\n",
    "        var = variance_given_mean(ability_integrator, dist_ability_est, tracked_responses, ability)\n",
    "        println(\"Got ability estimate: $ability ± $var\")\n",
    "        println(\"\")\n",
    "    end\n",
    "    loop_config = CatLoopConfig(\n",
    "        rules=rules,\n",
    "        get_response=get_response,\n",
    "        new_response_callback=new_response_callback\n",
    "    )\n",
    "    run_cat(loop_config, item_bank)\n",
    "end\n",
    "\n",
    "run_vocab_iq_cat()"
   ],
   "metadata": {},
   "execution_count": null
  },
  {
   "cell_type": "markdown",
   "source": [
    "---\n",
    "\n",
    "*This notebook was generated using [Literate.jl](https://github.com/fredrikekre/Literate.jl).*"
   ],
   "metadata": {}
  }
 ],
 "nbformat_minor": 3,
 "metadata": {
  "language_info": {
   "file_extension": ".jl",
   "mimetype": "application/julia",
   "name": "julia",
   "version": "1.9.0-DEV.1762"
  },
  "kernelspec": {
   "name": "julia-1.9",
   "display_name": "Julia 1.9.0-DEV.1762",
   "language": "julia"
  }
 },
 "nbformat": 4
}
