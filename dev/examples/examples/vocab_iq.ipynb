{
 "cells": [
  {
   "cell_type": "markdown",
   "source": [
    "This example shows how to run a CAT end-to-end on real data.\n",
    "\n",
    "First a 1-dimensional IRT model is fitted based on open response data to the\n",
    "vocabulary IQ test using the IRTSupport package which internally, this uses\n",
    "the `mirt` R package. Next, the model is used to administer the test\n",
    "interactively."
   ],
   "metadata": {}
  },
  {
   "outputs": [],
   "cell_type": "code",
   "source": [
    "using Base.Filesystem\n",
    "using ComputerAdaptiveTesting\n",
    "using FittedItemBanks.DummyData: std_normal\n",
    "using ComputerAdaptiveTesting.Sim\n",
    "using ComputerAdaptiveTesting.NextItemRules\n",
    "using ComputerAdaptiveTesting.TerminationConditions\n",
    "using ComputerAdaptiveTesting.Aggregators\n",
    "using FittedItemBanks\n",
    "using FittedItemBanks: item_params\n",
    "import PsychometricsBazaarBase.IntegralCoeffs\n",
    "using PsychometricsBazaarBase.Integrators\n",
    "using PsychometricsBazaarBase.Optimizers\n",
    "using ItemResponseDatasets: prompt_readline\n",
    "using ItemResponseDatasets.VocabIQ\n",
    "using RIrtWrappers.Mirt\n",
    "\n",
    "function get_item_bank()\n",
    "    fit_4pl(get_marked_df_cached(); TOL = 1e-2)\n",
    "end\n",
    "\n",
    "function run_vocab_iq_cat()\n",
    "    item_bank, labels = get_item_bank()\n",
    "    integrator = FixedGKIntegrator(-6, 6, 61)\n",
    "    ability_integrator = AbilityIntegrator(integrator)\n",
    "    dist_ability_est = PosteriorAbilityEstimator(std_normal)\n",
    "    optimizer = AbilityOptimizer(OneDimOptimOptimizer(-6.0, 6.0, NelderMead()))\n",
    "    ability_estimator = ModeAbilityEstimator(dist_ability_est, optimizer)\n",
    "    @info \"run_cat\" ability_estimator\n",
    "    rules = CatRules(ability_estimator,\n",
    "        AbilityVariance(dist_ability_est, ability_integrator),\n",
    "        FixedLength(45))\n",
    "    function get_response(response_idx, response_name)\n",
    "        params = item_params(item_bank, response_idx)\n",
    "        println(\"Parameters for next question: $params\")\n",
    "        prompt_readline(VocabIQ.questions[response_idx])\n",
    "    end\n",
    "    function new_response_callback(tracked_responses, terminating)\n",
    "        if tracked_responses.responses.values[end] > 0\n",
    "            println(\"Correct\")\n",
    "        else\n",
    "            println(\"Wrong\")\n",
    "        end\n",
    "        ability = ability_estimator(tracked_responses)\n",
    "        var = variance_given_mean(ability_integrator,\n",
    "            dist_ability_est,\n",
    "            tracked_responses,\n",
    "            ability)\n",
    "        println(\"Got ability estimate: $ability ± $var\")\n",
    "        println(\"\")\n",
    "    end\n",
    "    loop_config = CatLoop(rules = rules,\n",
    "        get_response = get_response,\n",
    "        new_response_callback = new_response_callback)\n",
    "    run_cat(loop_config, item_bank)\n",
    "end\n",
    "\n",
    "run_vocab_iq_cat()"
   ],
   "metadata": {},
   "execution_count": null
  },
  {
   "cell_type": "markdown",
   "source": [
    "---\n",
    "\n",
    "*This notebook was generated using [Literate.jl](https://github.com/fredrikekre/Literate.jl).*"
   ],
   "metadata": {}
  }
 ],
 "nbformat_minor": 3,
 "metadata": {
  "language_info": {
   "file_extension": ".jl",
   "mimetype": "application/julia",
   "name": "julia",
   "version": "1.11.5"
  },
  "kernelspec": {
   "name": "julia-1.11",
   "display_name": "Julia 1.11.5",
   "language": "julia"
  }
 },
 "nbformat": 4
}
