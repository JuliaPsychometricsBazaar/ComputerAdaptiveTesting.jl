{
 "cells": [
  {
   "cell_type": "markdown",
   "source": [
    "# Running a CAT based on a synthetic correct/incorrect 3PL IRT model\n",
    "\n",
    "This example shows how to run a CAT based on a synthetic correct/incorrect 3PL\n",
    "IRT model."
   ],
   "metadata": {}
  },
  {
   "cell_type": "markdown",
   "source": [
    "Import order is important. We put ComputerAdaptiveTesting last so we get the\n",
    "extra dependencies."
   ],
   "metadata": {}
  },
  {
   "outputs": [],
   "cell_type": "code",
   "source": [
    "using Makie\n",
    "import Pkg\n",
    "import Random\n",
    "using Distributions: Normal, cdf\n",
    "using AlgebraOfGraphics\n",
    "using ComputerAdaptiveTesting\n",
    "using ComputerAdaptiveTesting.ExtraDistributions: NormalScaledLogistic\n",
    "using ComputerAdaptiveTesting.Sim: auto_responder\n",
    "using ComputerAdaptiveTesting.NextItemRules: AbilityVarianceStateCriterion\n",
    "using ComputerAdaptiveTesting.TerminationConditions: FixedItemsTerminationCondition\n",
    "using ComputerAdaptiveTesting.Aggregators: PriorAbilityEstimator, MeanAbilityEstimator, LikelihoodAbilityEstimator\n",
    "using ComputerAdaptiveTesting.ItemBanks\n",
    "using ComputerAdaptiveTesting.Integrators\n",
    "using ComputerAdaptiveTesting.Responses: BooleanResponse\n",
    "import ComputerAdaptiveTesting.IntegralCoeffs\n",
    "using CATPlots\n",
    "\n",
    "@automakie()"
   ],
   "metadata": {},
   "execution_count": 1
  },
  {
   "cell_type": "markdown",
   "source": [
    "Now we are read to generate our synthetic data using the supplied DummyData\n",
    "module. We generate an item bank with 100 items and fake responses for 3\n",
    "testees."
   ],
   "metadata": {}
  },
  {
   "outputs": [
    {
     "output_type": "execute_result",
     "data": {
      "text/plain": "(ComputerAdaptiveTesting.ItemBanks.GuessItemBank{ComputerAdaptiveTesting.ItemBanks.TransferItemBank{Distributions.Logistic{Float64}}}([0.0, 0.0, 0.0, 0.19462123718477925, 0.03680461950064568, 0.0, 0.0, 0.0, 0.03199394449288699, 0.0  …  0.10170685458856432, 0.0, 0.0, 0.010798570292840827, 0.065242846024754, 0.0, 0.14535402809450157, 0.1270532802604405, 0.0, 0.20752872171066686], ComputerAdaptiveTesting.ItemBanks.TransferItemBank{Distributions.Logistic{Float64}}(Distributions.Logistic{Float64}(μ=0.0, θ=0.5875440658049353), [-0.5226182039316702, 1.6445545468069516, 0.7478715281174344, -0.5880023151678505, 1.3794526558826363, 1.4691874033616144, 2.5021975988724083, -0.8115034987704383, 0.31758883193517146, -0.868874051070674  …  -1.7298587279046034, -0.6326230817592203, -0.35129074883338746, -0.15154473500702556, 0.6413921949231631, -1.5015997471709928, -0.6024810982461476, 1.0199576727767985, 0.11185258594974716, -0.13376943468506888], [1.3054000661136147, 1.294194060695899, 0.9014933537040382, 0.8977891185690793, 1.2077693174439992, 0.7007445851414753, 0.8595070434741094, 1.5280427880402643, 0.8027872201584109, 1.293047970251881  …  0.9524499495239019, 1.0215138031826143, 1.0927888525063456, 1.119465205559731, 1.0593240220618025, 0.7666689658536218, 0.8055370749914905, 0.6193245427489213, 1.078906084574742, 1.4050293232481008], nothing)), [\"Quos et dicta suscipit est atque.\", \"Fugit quia.\", \"Officia provident temporibus ut fugiat quasi maiores dolorum adipisci.\", \"Ab ea ipsum eveniet.\", \"Est et voluptatum eaque alias assumenda aut architecto.\", \"Ad architecto provident mollitia ut laborum.\", \"Porro natus odio repellendus rem non aut nesciunt nihil dolorum non quod.\", \"Voluptatem maiores tempore.\", \"Non consectetur ea sed.\", \"Nam id aut iusto et quisquam facere voluptatibus.\"  …  \"Qui fugiat excepturi sequi voluptatem fugit totam nulla est amet modi dolor.\", \"Quod sit voluptas.\", \"Voluptas eligendi ipsam rem rem repellat natus a accusamus ex.\", \"Ut consequatur et eos qui qui quam amet mollitia cupiditate debitis.\", \"Nesciunt ex dicta similique vel sed eveniet perferendis soluta numquam.\", \"Sint minima voluptates recusandae impedit quia.\", \"Qui non sit officiis corporis voluptas amet ipsa ea in quasi.\", \"Accusamus.\", \"Quia amet recusandae eius nesciunt veniam et nisi maxime officia.\", \"Ea dolore laborum consequatur iste sed iste tenetur omnis harum labore.\"], [-1.0318188537957598, -0.41727456163960647, -0.3243983071182768], Bool[0 0 0; 0 0 0; … ; 0 0 1; 1 1 0])"
     },
     "metadata": {},
     "execution_count": 2
    }
   ],
   "cell_type": "code",
   "source": [
    "using ComputerAdaptiveTesting.DummyData: dummy_full, std_normal, SimpleItemBankSpec, StdModel3PL\n",
    "using ComputerAdaptiveTesting.MathTraits\n",
    "(item_bank, question_labels, abilities, responses) = dummy_full(\n",
    "    Random.default_rng(42),\n",
    "    SimpleItemBankSpec(StdModel3PL(), OneDimContinuousDomain(), BooleanResponse());\n",
    "    num_questions=100,\n",
    "    num_testees=3\n",
    ")"
   ],
   "metadata": {},
   "execution_count": 2
  },
  {
   "cell_type": "markdown",
   "source": [
    "Simulate a CAT for each testee and record it using CatRecorder.\n",
    "CatRecorder collects information which can be used to draw different types of plots."
   ],
   "metadata": {}
  },
  {
   "outputs": [],
   "cell_type": "code",
   "source": [
    "max_questions = 99\n",
    "integrator = FixedGKIntegrator(-6, 6, 80)\n",
    "dist_ability_est = PriorAbilityEstimator(std_normal)\n",
    "ability_estimator = MeanAbilityEstimator(dist_ability_est, integrator)\n",
    "rules = CatRules(\n",
    "    ability_estimator,\n",
    "    AbilityVarianceStateCriterion(dist_ability_est, integrator),\n",
    "    FixedItemsTerminationCondition(max_questions)\n",
    ")\n",
    "\n",
    "points = 500\n",
    "xs = range(-2.5, 2.5, length=points)\n",
    "raw_estimator = LikelihoodAbilityEstimator()\n",
    "recorder = CatRecorder(xs, responses, integrator, raw_estimator, ability_estimator)\n",
    "for testee_idx in axes(responses, 2)\n",
    "    tracked_responses, θ = run_cat(\n",
    "        CatLoopConfig(\n",
    "            rules=rules,\n",
    "            get_response=auto_responder(@view responses[:, testee_idx]),\n",
    "            new_response_callback=(tracked_responses, terminating) -> recorder(tracked_responses, testee_idx, terminating),\n",
    "        ),\n",
    "        item_bank\n",
    "    )\n",
    "    true_θ = abilities[testee_idx]\n",
    "    abs_err = abs(θ - true_θ)\n",
    "end"
   ],
   "metadata": {},
   "execution_count": 3
  },
  {
   "cell_type": "markdown",
   "source": [
    "Make a plot showing how the estimated value evolves during the CAT.\n",
    "We also plot the 'true' values used to generate the responses."
   ],
   "metadata": {}
  },
  {
   "outputs": [
    {
     "output_type": "execute_result",
     "data": {
      "text/plain": "FigureGrid()",
      "text/html": [
       "<div data-jscall-id=\"2\"><script data-jscall-id=\"3\" type=\"text/javascript\">\n",
       "    function register_resize_handler(remote_origin) {\n",
       "        function resize_callback(event) {\n",
       "            if (event.origin !== remote_origin) {\n",
       "                return;\n",
       "            }\n",
       "            const uuid = event.data[0];\n",
       "            const width = event.data[1];\n",
       "            const height = event.data[2];\n",
       "            const iframe = document.getElementById('d815a44c-350a-4d99-8929-656e103c6185');\n",
       "            if (iframe) {\n",
       "                iframe.style.width = width + \"px\";\n",
       "                iframe.style.height = height + \"px\";\n",
       "            }\n",
       "        }\n",
       "        if (window.addEventListener) {\n",
       "            window.addEventListener(\"message\", resize_callback, false);\n",
       "        } else if (window.attachEvent) {\n",
       "            window.attachEvent(\"onmessage\", resize_callback);\n",
       "        }\n",
       "    }\n",
       "    register_resize_handler('http://127.0.0.1:9284')\n",
       "\n",
       "</script><iframe scrolling=\"no\" id=\"d815a44c-350a-4d99-8929-656e103c6185\" data-jscall-id=\"1\" src=\"http://127.0.0.1:9284/d815a44c-350a-4d99-8929-656e103c6185\" style=\"position: relative; display: block; width: 100%; height: 100%; padding: 0; overflow: hidden; border: none\"></iframe></div>\n"
      ]
     },
     "metadata": {},
     "execution_count": 4
    }
   ],
   "cell_type": "code",
   "source": [
    "conv_lines_fig = ability_evolution_lines(recorder; abilities=abilities)\n",
    "conv_lines_fig"
   ],
   "metadata": {},
   "execution_count": 4
  },
  {
   "cell_type": "markdown",
   "source": [
    "Make an interactive plot, showing how the distribution of the ability\n",
    "likelihood evolves."
   ],
   "metadata": {}
  },
  {
   "outputs": [
    {
     "output_type": "execute_result",
     "data": {
      "text/plain": "Figure()",
      "text/html": [
       "<div data-jscall-id=\"5\"><script data-jscall-id=\"6\" type=\"text/javascript\">\n",
       "    function register_resize_handler(remote_origin) {\n",
       "        function resize_callback(event) {\n",
       "            if (event.origin !== remote_origin) {\n",
       "                return;\n",
       "            }\n",
       "            const uuid = event.data[0];\n",
       "            const width = event.data[1];\n",
       "            const height = event.data[2];\n",
       "            const iframe = document.getElementById('9330339f-8791-4c28-856e-c03873e984d8');\n",
       "            if (iframe) {\n",
       "                iframe.style.width = width + \"px\";\n",
       "                iframe.style.height = height + \"px\";\n",
       "            }\n",
       "        }\n",
       "        if (window.addEventListener) {\n",
       "            window.addEventListener(\"message\", resize_callback, false);\n",
       "        } else if (window.attachEvent) {\n",
       "            window.attachEvent(\"onmessage\", resize_callback);\n",
       "        }\n",
       "    }\n",
       "    register_resize_handler('http://127.0.0.1:9284')\n",
       "\n",
       "</script><iframe scrolling=\"no\" id=\"9330339f-8791-4c28-856e-c03873e984d8\" data-jscall-id=\"4\" src=\"http://127.0.0.1:9284/9330339f-8791-4c28-856e-c03873e984d8\" style=\"position: relative; display: block; width: 100%; height: 100%; padding: 0; overflow: hidden; border: none\"></iframe></div>\n"
      ]
     },
     "metadata": {},
     "execution_count": 5
    }
   ],
   "cell_type": "code",
   "source": [
    "conv_dist_fig = lh_evolution_interactive(recorder; abilities=abilities)\n",
    "conv_dist_fig"
   ],
   "metadata": {},
   "execution_count": 5
  },
  {
   "cell_type": "markdown",
   "source": [
    "---\n",
    "\n",
    "*This notebook was generated using [Literate.jl](https://github.com/fredrikekre/Literate.jl).*"
   ],
   "metadata": {}
  }
 ],
 "nbformat_minor": 3,
 "metadata": {
  "language_info": {
   "file_extension": ".jl",
   "mimetype": "application/julia",
   "name": "julia",
   "version": "1.9.0-DEV.1757"
  },
  "kernelspec": {
   "name": "julia-1.9",
   "display_name": "Julia 1.9.0-DEV.1757",
   "language": "julia"
  }
 },
 "nbformat": 4
}
