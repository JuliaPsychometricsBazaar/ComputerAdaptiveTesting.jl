{
 "cells": [
  {
   "cell_type": "markdown",
   "source": [
    "# Running a CAT based on a synthetic correct/incorrect 3PL IRT model\n",
    "\n",
    "This example shows how to run a CAT based on a synthetic correct/incorrect 3PL\n",
    "IRT model."
   ],
   "metadata": {}
  },
  {
   "cell_type": "markdown",
   "source": [
    "Import order is important. We put ComputerAdaptiveTesting last so we get the\n",
    "extra dependencies."
   ],
   "metadata": {}
  },
  {
   "outputs": [],
   "cell_type": "code",
   "source": [
    "using Makie\n",
    "import Pkg\n",
    "import Random\n",
    "using Distributions: Normal, cdf\n",
    "using AlgebraOfGraphics\n",
    "using ComputerAdaptiveTesting\n",
    "using ComputerAdaptiveTesting.ExtraDistributions: NormalScaledLogistic\n",
    "using ComputerAdaptiveTesting.Sim: auto_responder\n",
    "using ComputerAdaptiveTesting.NextItemRules: AbilityVarianceStateCriterion\n",
    "using ComputerAdaptiveTesting.TerminationConditions: FixedItemsTerminationCondition\n",
    "using ComputerAdaptiveTesting.Aggregators: PriorAbilityEstimator, MeanAbilityEstimator, LikelihoodAbilityEstimator\n",
    "using ComputerAdaptiveTesting.ItemBanks\n",
    "using ComputerAdaptiveTesting.Integrators\n",
    "using ComputerAdaptiveTesting.Responses: BooleanResponse\n",
    "import ComputerAdaptiveTesting.IntegralCoeffs\n",
    "using CATPlots\n",
    "\n",
    "@automakie()"
   ],
   "metadata": {},
   "execution_count": 1
  },
  {
   "cell_type": "markdown",
   "source": [
    "Now we are read to generate our synthetic data using the supplied DummyData\n",
    "module. We generate an item bank with 100 items and fake responses for 3\n",
    "testees."
   ],
   "metadata": {}
  },
  {
   "outputs": [
    {
     "output_type": "execute_result",
     "data": {
      "text/plain": "(ComputerAdaptiveTesting.ItemBanks.GuessItemBank{ComputerAdaptiveTesting.ItemBanks.TransferItemBank{Distributions.Logistic{Float64}}}([0.0, 0.237252836038323, 0.0, 0.03275106529832784, 0.0, 0.0351587483937106, 0.0, 0.0, 0.04056768006220382, 0.21310502748660284  …  0.06738068183406366, 0.19426590106127, 0.0, 0.0, 0.0, 0.18834775314017285, 0.4221605931572538, 0.02555633445480085, 0.24631329019983972, 0.0], ComputerAdaptiveTesting.ItemBanks.TransferItemBank{Distributions.Logistic{Float64}}(Distributions.Logistic{Float64}(μ=0.0, θ=0.5875440658049353), [0.6804008389677381, -0.15011378722397994, 0.3078552041137613, 1.2152655391020046, -0.6736898408785245, 0.5281708444946384, -0.874962849768716, 0.008528062588338724, -0.7162933877053225, -0.02861762730735681  …  0.0906679224857289, -1.1164722667382294, 0.8201101250484729, 1.4538806126010566, -0.02739403699450549, 1.6254265024166588, 0.9589275552361124, -0.03637480223512257, 1.6125870056275518, -0.27419997700490384], [1.188322429561845, 0.6367398186889403, 1.2007133487169972, 1.1587048155595232, 1.480733599462634, 0.7445610587739087, 1.2519017465274827, 0.6707730881875305, 1.2836532857131058, 0.9369188748551088  …  0.7331673571591589, 1.0574605527914467, 1.107210331375117, 1.0767466947506017, 0.8307461456253035, 0.8132949310288355, 0.5589501787392348, 0.918735274670454, 1.0616226436548006, 0.9601636402754125], nothing)), [\"Dolor doloribus eos et sequi molestiae laboriosam neque et.\", \"Autem odio.\", \"Amet omnis exercitationem placeat voluptatem temporibus maxime eum.\", \"Aliquam voluptatem earum.\", \"Error.\", \"Nihil voluptate laborum autem unde tenetur et dolor quo quaerat veritatis.\", \"Sint dignissimos vel eveniet enim similique excepturi libero nisi.\", \"Blanditiis et porro repellat.\", \"Error inventore ut ut repudiandae perferendis et vero quis et.\", \"Qui neque et est aliquam ipsum itaque.\"  …  \"Occaecati.\", \"Repellendus vel aliquid.\", \"Eos aut odio nobis voluptates.\", \"Et quibusdam occaecati.\", \"Corrupti sapiente.\", \"Quisquam est facere neque similique aut et quo magni vel enim.\", \"Qui corrupti sed voluptatem itaque iure sed impedit quos ut voluptatem.\", \"Sit.\", \"Quaerat et quae alias illum sunt.\", \"Excepturi.\"], [-0.16265657715827445, -0.014541224479170401, -0.9777139750565138], Bool[1 0 0; 1 1 0; … ; 1 0 0; 0 1 0])"
     },
     "metadata": {},
     "execution_count": 2
    }
   ],
   "cell_type": "code",
   "source": [
    "using ComputerAdaptiveTesting.DummyData: dummy_full, std_normal, SimpleItemBankSpec, StdModel3PL\n",
    "using ComputerAdaptiveTesting.MathTraits\n",
    "(item_bank, question_labels, abilities, responses) = dummy_full(\n",
    "    Random.default_rng(42),\n",
    "    SimpleItemBankSpec(StdModel3PL(), OneDimContinuousDomain(), BooleanResponse());\n",
    "    num_questions=100,\n",
    "    num_testees=3\n",
    ")"
   ],
   "metadata": {},
   "execution_count": 2
  },
  {
   "cell_type": "markdown",
   "source": [
    "Simulate a CAT for each testee and record it using CatRecorder.\n",
    "CatRecorder collects information which can be used to draw different types of plots."
   ],
   "metadata": {}
  },
  {
   "outputs": [],
   "cell_type": "code",
   "source": [
    "max_questions = 99\n",
    "integrator = FixedGKIntegrator(-6, 6, 80)\n",
    "dist_ability_est = PriorAbilityEstimator(std_normal)\n",
    "ability_estimator = MeanAbilityEstimator(dist_ability_est, integrator)\n",
    "rules = CatRules(\n",
    "    ability_estimator,\n",
    "    AbilityVarianceStateCriterion(dist_ability_est, integrator),\n",
    "    FixedItemsTerminationCondition(max_questions)\n",
    ")\n",
    "\n",
    "points = 500\n",
    "xs = range(-2.5, 2.5, length=points)\n",
    "raw_estimator = LikelihoodAbilityEstimator()\n",
    "recorder = CatRecorder(xs, responses, integrator, raw_estimator, ability_estimator)\n",
    "for testee_idx in axes(responses, 2)\n",
    "    tracked_responses, θ = run_cat(\n",
    "        CatLoopConfig(\n",
    "            rules=rules,\n",
    "            get_response=auto_responder(@view responses[:, testee_idx]),\n",
    "            new_response_callback=(tracked_responses, terminating) -> recorder(tracked_responses, testee_idx, terminating),\n",
    "        ),\n",
    "        item_bank\n",
    "    )\n",
    "    true_θ = abilities[testee_idx]\n",
    "    abs_err = abs(θ - true_θ)\n",
    "end"
   ],
   "metadata": {},
   "execution_count": 3
  },
  {
   "cell_type": "markdown",
   "source": [
    "Make a plot showing how the estimated value evolves during the CAT.\n",
    "We also plot the 'true' values used to generate the responses."
   ],
   "metadata": {}
  },
  {
   "outputs": [
    {
     "output_type": "execute_result",
     "data": {
      "text/plain": "FigureGrid()",
      "text/html": [
       "<div data-jscall-id=\"2\"><script data-jscall-id=\"3\" type=\"text/javascript\">\n",
       "    function register_resize_handler(remote_origin) {\n",
       "        function resize_callback(event) {\n",
       "            if (event.origin !== remote_origin) {\n",
       "                return;\n",
       "            }\n",
       "            const uuid = event.data[0];\n",
       "            const width = event.data[1];\n",
       "            const height = event.data[2];\n",
       "            const iframe = document.getElementById('df262a84-26c4-488e-9719-15a061a3406a');\n",
       "            if (iframe) {\n",
       "                iframe.style.width = width + \"px\";\n",
       "                iframe.style.height = height + \"px\";\n",
       "            }\n",
       "        }\n",
       "        if (window.addEventListener) {\n",
       "            window.addEventListener(\"message\", resize_callback, false);\n",
       "        } else if (window.attachEvent) {\n",
       "            window.attachEvent(\"onmessage\", resize_callback);\n",
       "        }\n",
       "    }\n",
       "    register_resize_handler('http://127.0.0.1:9284')\n",
       "\n",
       "</script><iframe scrolling=\"no\" id=\"df262a84-26c4-488e-9719-15a061a3406a\" data-jscall-id=\"1\" src=\"http://127.0.0.1:9284/df262a84-26c4-488e-9719-15a061a3406a\" style=\"position: relative; display: block; width: 100%; height: 100%; padding: 0; overflow: hidden; border: none\"></iframe></div>\n"
      ]
     },
     "metadata": {},
     "execution_count": 4
    }
   ],
   "cell_type": "code",
   "source": [
    "conv_lines_fig = ability_evolution_lines(recorder; abilities=abilities)\n",
    "conv_lines_fig"
   ],
   "metadata": {},
   "execution_count": 4
  },
  {
   "cell_type": "markdown",
   "source": [
    "Make an interactive plot, showing how the distribution of the ability\n",
    "likelihood evolves."
   ],
   "metadata": {}
  },
  {
   "outputs": [
    {
     "output_type": "execute_result",
     "data": {
      "text/plain": "Figure()",
      "text/html": [
       "<div data-jscall-id=\"5\"><script data-jscall-id=\"6\" type=\"text/javascript\">\n",
       "    function register_resize_handler(remote_origin) {\n",
       "        function resize_callback(event) {\n",
       "            if (event.origin !== remote_origin) {\n",
       "                return;\n",
       "            }\n",
       "            const uuid = event.data[0];\n",
       "            const width = event.data[1];\n",
       "            const height = event.data[2];\n",
       "            const iframe = document.getElementById('c0fbcda6-d586-4ecc-8105-eb6e1e943770');\n",
       "            if (iframe) {\n",
       "                iframe.style.width = width + \"px\";\n",
       "                iframe.style.height = height + \"px\";\n",
       "            }\n",
       "        }\n",
       "        if (window.addEventListener) {\n",
       "            window.addEventListener(\"message\", resize_callback, false);\n",
       "        } else if (window.attachEvent) {\n",
       "            window.attachEvent(\"onmessage\", resize_callback);\n",
       "        }\n",
       "    }\n",
       "    register_resize_handler('http://127.0.0.1:9284')\n",
       "\n",
       "</script><iframe scrolling=\"no\" id=\"c0fbcda6-d586-4ecc-8105-eb6e1e943770\" data-jscall-id=\"4\" src=\"http://127.0.0.1:9284/c0fbcda6-d586-4ecc-8105-eb6e1e943770\" style=\"position: relative; display: block; width: 100%; height: 100%; padding: 0; overflow: hidden; border: none\"></iframe></div>\n"
      ]
     },
     "metadata": {},
     "execution_count": 5
    }
   ],
   "cell_type": "code",
   "source": [
    "conv_dist_fig = lh_evolution_interactive(recorder; abilities=abilities)\n",
    "conv_dist_fig"
   ],
   "metadata": {},
   "execution_count": 5
  },
  {
   "cell_type": "markdown",
   "source": [
    "---\n",
    "\n",
    "*This notebook was generated using [Literate.jl](https://github.com/fredrikekre/Literate.jl).*"
   ],
   "metadata": {}
  }
 ],
 "nbformat_minor": 3,
 "metadata": {
  "language_info": {
   "file_extension": ".jl",
   "mimetype": "application/julia",
   "name": "julia",
   "version": "1.9.0-DEV.1757"
  },
  "kernelspec": {
   "name": "julia-1.9",
   "display_name": "Julia 1.9.0-DEV.1757",
   "language": "julia"
  }
 },
 "nbformat": 4
}
