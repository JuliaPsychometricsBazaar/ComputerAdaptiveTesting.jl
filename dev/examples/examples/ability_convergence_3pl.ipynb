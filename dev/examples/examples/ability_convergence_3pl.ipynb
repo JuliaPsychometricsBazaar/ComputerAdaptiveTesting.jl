{
 "cells": [
  {
   "cell_type": "markdown",
   "source": [
    "# Running a CAT based on a synthetic correct/incorrect 3PL IRT model\n",
    "\n",
    "This example shows how to run a CAT based on a synthetic correct/incorrect 3PL\n",
    "IRT model."
   ],
   "metadata": {}
  },
  {
   "cell_type": "markdown",
   "source": [
    "Import order is important. We put ComputerAdaptiveTesting last so we get the\n",
    "extra dependencies."
   ],
   "metadata": {}
  },
  {
   "outputs": [],
   "cell_type": "code",
   "source": [
    "using Makie\n",
    "import Pkg\n",
    "import Random\n",
    "using Distributions: Normal, cdf\n",
    "using AlgebraOfGraphics\n",
    "using ComputerAdaptiveTesting\n",
    "using ComputerAdaptiveTesting.ExtraDistributions: NormalScaledLogistic\n",
    "using ComputerAdaptiveTesting.Sim: auto_responder\n",
    "using ComputerAdaptiveTesting.NextItemRules: AbilityVarianceStateCriterion\n",
    "using ComputerAdaptiveTesting.TerminationConditions: FixedItemsTerminationCondition\n",
    "using ComputerAdaptiveTesting.Aggregators: PriorAbilityEstimator, MeanAbilityEstimator, LikelihoodAbilityEstimator\n",
    "using ComputerAdaptiveTesting.ItemBanks\n",
    "using ComputerAdaptiveTesting.Integrators\n",
    "import ComputerAdaptiveTesting.IntegralCoeffs\n",
    "using CATPlots\n",
    "\n",
    "@automakie()"
   ],
   "metadata": {},
   "execution_count": 1
  },
  {
   "cell_type": "markdown",
   "source": [
    "Now we are read to generate our synthetic data using the supplied DummyData\n",
    "module. We generate an item bank with 100 items and fake responses for 3\n",
    "testees."
   ],
   "metadata": {}
  },
  {
   "outputs": [
    {
     "output_type": "execute_result",
     "data": {
      "text/plain": "(ComputerAdaptiveTesting.ItemBanks.GuessItemBank{ComputerAdaptiveTesting.ItemBanks.TransferItemBank{Distributions.Logistic{Float64}}}([0.0, 0.0, 0.0, 0.08460030785740476, 0.4314519226411081, 0.3039209952022871, 0.0, 0.04492746298982733, 0.0, 0.043287010267455094  …  0.15254677941470662, 0.30746942855864307, 0.07918765671742968, 0.1074774854247907, 0.31567437317234404, 0.30719576934763493, 0.0, 0.0, 0.0, 0.0], ComputerAdaptiveTesting.ItemBanks.TransferItemBank{Distributions.Logistic{Float64}}(Distributions.Logistic{Float64}(μ=0.0, θ=0.5875440658049353), [0.7883556016042917, -0.8798585959543993, -0.873793482209626, -0.7332549644348927, -0.7021951987576804, -0.07258186804586991, -0.9129233863399265, 0.6316208311167526, 1.4386832757114134, -0.35416984337044605  …  -0.5445681210073285, 0.2208132624522603, 0.6006983743543721, 0.004286509104495785, 1.0262706957111953, -1.1165840371172657, -0.3013720710831042, 0.22759237809233804, 2.2573510919898294, 0.5003066411786888], [0.8658872814671111, 1.142755416277485, 1.2508300441938174, 0.948806549148337, 1.2507865279521484, 1.049866981606765, 0.987859140847686, 1.1875503258504043, 0.7245455137442254, 0.48142402873318246  …  0.9672484205153119, 0.9273939869096828, 0.9038092939734593, 1.0950899470443454, 1.3237525541704156, 0.746781636979039, 0.8032689136840875, 1.2044267666721507, 1.2332324774592627, 0.8658602656802685], nothing)), [\"Delectus numquam at qui reiciendis molestias impedit laborum voluptatem alias qui.\", \"Sunt a quis aut ad dolores quo autem aliquam odit et.\", \"Esse amet ducimus.\", \"Porro dolorem non qui.\", \"Nam quae omnis culpa explicabo labore.\", \"Reprehenderit ut qui.\", \"Ut consequuntur.\", \"Commodi magni possimus itaque dolore.\", \"Minus ullam nemo eum hic eos exercitationem ab labore unde.\", \"Sed ea rem asperiores veniam.\"  …  \"Modi molestiae rerum ducimus accusamus repellendus in suscipit blanditiis.\", \"Sint officia placeat.\", \"Ea ab rerum culpa.\", \"Occaecati nihil qui nihil dolore porro sequi voluptas et voluptatibus.\", \"Et quis.\", \"Rem similique.\", \"Minus occaecati placeat hic unde ut magni aliquid aliquid.\", \"Impedit labore quasi qui quia incidunt qui voluptatem suscipit.\", \"Enim enim numquam occaecati dicta quo cupiditate.\", \"Voluptatem porro cupiditate ipsa qui animi modi assumenda impedit facere.\"], [-0.7765091476697101, -1.3982076836232307, -0.03290568622818774], Bool[0 0 0; 0 0 1; … ; 0 0 0; 0 0 0])"
     },
     "metadata": {},
     "execution_count": 2
    }
   ],
   "cell_type": "code",
   "source": [
    "using ComputerAdaptiveTesting.DummyData: dummy_3pl, std_normal\n",
    "Random.seed!(42)\n",
    "(item_bank, question_labels, abilities, responses) = dummy_3pl(;num_questions=100, num_testees=3)"
   ],
   "metadata": {},
   "execution_count": 2
  },
  {
   "cell_type": "markdown",
   "source": [
    "Simulate a CAT for each testee and record it using CatRecorder.\n",
    "CatRecorder collects information which can be used to draw different types of plots."
   ],
   "metadata": {}
  },
  {
   "outputs": [
    {
     "name": "stdout",
     "output_type": "stream",
     "text": [
      "#ExpectationBasedItemCriterion#7 at objective_function.jl:88 [inlined]\n",
      "(::Core.var\"#Type##kw\")(::NamedTuple{(:ability_estimator,), Tuple{ComputerAdaptiveTesting.Aggregators.MeanAbilityEstimator{ComputerAdaptiveTesting.Aggregators.PriorAbilityEstimator{Distributions.Normal{Float64}}, ComputerAdaptiveTesting.Aggregators.FunctionIntegrator{ComputerAdaptiveTesting.Integrators.FixedGKIntegrator}}}}, ::Type{ComputerAdaptiveTesting.NextItemRules.ExpectationBasedItemCriterion}, ::ComputerAdaptiveTesting.Aggregators.MeanAbilityEstimator{ComputerAdaptiveTesting.Aggregators.PriorAbilityEstimator{Distributions.Normal{Float64}}, ComputerAdaptiveTesting.Aggregators.FunctionIntegrator{ComputerAdaptiveTesting.Integrators.FixedGKIntegrator}}, ::ComputerAdaptiveTesting.NextItemRules.AbilityVarianceStateCriterion{ComputerAdaptiveTesting.Aggregators.PriorAbilityEstimator{Distributions.Normal{Float64}}, ComputerAdaptiveTesting.Aggregators.FunctionIntegrator{ComputerAdaptiveTesting.Integrators.FixedGKIntegrator}}, ::ComputerAdaptiveTesting.TerminationConditions.FixedItemsTerminationCondition) at objective_function.jl:88\n",
      "macro expansion at ConfigBase.jl:36 [inlined]\n",
      "ComputerAdaptiveTesting.NextItemRules.ItemCriterion(::ComputerAdaptiveTesting.Aggregators.MeanAbilityEstimator{ComputerAdaptiveTesting.Aggregators.PriorAbilityEstimator{Distributions.Normal{Float64}}, ComputerAdaptiveTesting.Aggregators.FunctionIntegrator{ComputerAdaptiveTesting.Integrators.FixedGKIntegrator}}, ::Vararg{Any}; ability_estimator::ComputerAdaptiveTesting.Aggregators.MeanAbilityEstimator{ComputerAdaptiveTesting.Aggregators.PriorAbilityEstimator{Distributions.Normal{Float64}}, ComputerAdaptiveTesting.Aggregators.FunctionIntegrator{ComputerAdaptiveTesting.Integrators.FixedGKIntegrator}}) at objective_function.jl:7\n",
      "Type at objective_function.jl:5 [inlined]\n",
      "#ItemStrategyNextItemRule#25 at NextItemRules.jl:192 [inlined]\n",
      "(::Core.var\"#Type##kw\")(::NamedTuple{(:ability_estimator, :parallel), Tuple{ComputerAdaptiveTesting.Aggregators.MeanAbilityEstimator{ComputerAdaptiveTesting.Aggregators.PriorAbilityEstimator{Distributions.Normal{Float64}}, ComputerAdaptiveTesting.Aggregators.FunctionIntegrator{ComputerAdaptiveTesting.Integrators.FixedGKIntegrator}}, Bool}}, ::Type{ComputerAdaptiveTesting.NextItemRules.ItemStrategyNextItemRule}, ::ComputerAdaptiveTesting.Aggregators.MeanAbilityEstimator{ComputerAdaptiveTesting.Aggregators.PriorAbilityEstimator{Distributions.Normal{Float64}}, ComputerAdaptiveTesting.Aggregators.FunctionIntegrator{ComputerAdaptiveTesting.Integrators.FixedGKIntegrator}}, ::ComputerAdaptiveTesting.NextItemRules.AbilityVarianceStateCriterion{ComputerAdaptiveTesting.Aggregators.PriorAbilityEstimator{Distributions.Normal{Float64}}, ComputerAdaptiveTesting.Aggregators.FunctionIntegrator{ComputerAdaptiveTesting.Integrators.FixedGKIntegrator}}, ::ComputerAdaptiveTesting.TerminationConditions.FixedItemsTerminationCondition) at NextItemRules.jl:191\n",
      "macro expansion at ConfigBase.jl:36 [inlined]\n",
      "ComputerAdaptiveTesting.NextItemRules.NextItemRule(::ComputerAdaptiveTesting.Aggregators.MeanAbilityEstimator{ComputerAdaptiveTesting.Aggregators.PriorAbilityEstimator{Distributions.Normal{Float64}}, ComputerAdaptiveTesting.Aggregators.FunctionIntegrator{ComputerAdaptiveTesting.Integrators.FixedGKIntegrator}}, ::Vararg{Any}; ability_estimator::ComputerAdaptiveTesting.Aggregators.MeanAbilityEstimator{ComputerAdaptiveTesting.Aggregators.PriorAbilityEstimator{Distributions.Normal{Float64}}, ComputerAdaptiveTesting.Aggregators.FunctionIntegrator{ComputerAdaptiveTesting.Integrators.FixedGKIntegrator}}, parallel::Bool) at NextItemRules.jl:36\n",
      "(::Core.var\"#Type##kw\")(::NamedTuple{(:ability_estimator,), Tuple{ComputerAdaptiveTesting.Aggregators.MeanAbilityEstimator{ComputerAdaptiveTesting.Aggregators.PriorAbilityEstimator{Distributions.Normal{Float64}}, ComputerAdaptiveTesting.Aggregators.FunctionIntegrator{ComputerAdaptiveTesting.Integrators.FixedGKIntegrator}}}}, ::Type{ComputerAdaptiveTesting.NextItemRules.NextItemRule}, ::ComputerAdaptiveTesting.Aggregators.MeanAbilityEstimator{ComputerAdaptiveTesting.Aggregators.PriorAbilityEstimator{Distributions.Normal{Float64}}, ComputerAdaptiveTesting.Aggregators.FunctionIntegrator{ComputerAdaptiveTesting.Integrators.FixedGKIntegrator}}, ::ComputerAdaptiveTesting.NextItemRules.AbilityVarianceStateCriterion{ComputerAdaptiveTesting.Aggregators.PriorAbilityEstimator{Distributions.Normal{Float64}}, ComputerAdaptiveTesting.Aggregators.FunctionIntegrator{ComputerAdaptiveTesting.Integrators.FixedGKIntegrator}}, ::ComputerAdaptiveTesting.TerminationConditions.FixedItemsTerminationCondition) at NextItemRules.jl:35\n",
      "CatRules(::ComputerAdaptiveTesting.Aggregators.MeanAbilityEstimator{ComputerAdaptiveTesting.Aggregators.PriorAbilityEstimator{Distributions.Normal{Float64}}, ComputerAdaptiveTesting.Aggregators.FunctionIntegrator{ComputerAdaptiveTesting.Integrators.FixedGKIntegrator}}, ::Vararg{Any}) at CatConfig.jl:57\n",
      "top-level scope at ability_convergence_3pl.ipynb:5\n",
      "eval at boot.jl:373 [inlined]\n",
      "include_string(mapexpr::typeof(identity), mod::Module, code::String, filename::String) at loading.jl:1196\n",
      "include_string at loading.jl:1206 [inlined]\n",
      "#44 at Literate.jl:861 [inlined]\n",
      "(::IOCapture.var\"#3#5\"{Core.TypeofBottom, Literate.var\"#44#45\"{String, Module, String}, Task, IOContext{Base.PipeEndpoint}, IOContext{Base.PipeEndpoint}, Base.PipeEndpoint, Base.PipeEndpoint})() at IOCapture.jl:118\n",
      "with_logstate(f::Function, logstate::Any) at logging.jl:511\n",
      "with_logger at logging.jl:623 [inlined]\n",
      "capture(f::Literate.var\"#44#45\"{String, Module, String}; rethrow::Type, color::Bool) at IOCapture.jl:116\n",
      "capture at IOCapture.jl:75 [inlined]\n",
      "execute_block(sb::Module, block::String; inputfile::String, fake_source::String) at Literate.jl:860\n",
      "execute_block at Literate.jl:846 [inlined]\n",
      "execute_notebook(nb::Dict{Any, Any}; inputfile::String, fake_source::String) at Literate.jl:763\n",
      "(::Literate.var\"#execute_notebook##kw\")(::NamedTuple{(:inputfile, :fake_source), Tuple{String, String}}, ::typeof(Literate.execute_notebook), nb::Dict{Any, Any}) at Literate.jl:756\n",
      "(::Literate.var\"#38#40\"{Dict{String, Any}})() at Literate.jl:743\n",
      "cd(f::Literate.var\"#38#40\"{Dict{String, Any}}, dir::String) at file.jl:110\n",
      "jupyter_notebook(chunks::Vector{Literate.Chunk}, config::Dict{String, Any}) at Literate.jl:742\n",
      "notebook(inputfile::String, outputdir::String; config::Dict{Any, Any}, kwargs::Base.Pairs{Symbol, Bool, Tuple{Symbol}, NamedTuple{(:credit,), Tuple{Bool}}}) at Literate.jl:679\n",
      "notebook at Literate.jl:675 [inlined]\n",
      "macro expansion at Suppressor.jl:35 [inlined]\n",
      "save_democards(card_dir::String, card::DemoCards.JuliaDemoCard; credit::Bool, nbviewer_root_url::String, project_dir::String, src::String, throw_error::Bool, properties::Dict{String, Any}, kwargs::Base.Pairs{Symbol, String, Tuple{Symbol}, NamedTuple{(:project_root,), Tuple{String}}}) at julia.jl:224\n",
      "save_democards at julia.jl:143 [inlined]\n",
      "#41 at broadcast.jl:1283 [inlined]\n",
      "_broadcast_getindex_evalf at broadcast.jl:670 [inlined]\n",
      "_broadcast_getindex at broadcast.jl:643 [inlined]\n",
      "getindex at broadcast.jl:597 [inlined]\n",
      "macro expansion at broadcast.jl:961 [inlined]\n",
      "macro expansion at simdloop.jl:77 [inlined]\n",
      "copyto!(dest::Vector{Int64}, bc::Base.Broadcast.Broadcasted{Nothing, Tuple{Base.OneTo{Int64}}, Base.Broadcast.var\"#41#42\"{Base.Pairs{Symbol, Any, NTuple{6, Symbol}, NamedTuple{(:properties, :project_root, :src, :credit, :nbviewer_root_url, :throw_error), Tuple{Dict{String, Any}, String, String, Bool, String, Bool}}}, typeof(DemoCards.save_democards)}, Tuple{Base.RefValue{String}, Vector{DemoCards.JuliaDemoCard}}}) at broadcast.jl:960\n",
      "copyto! at broadcast.jl:913 [inlined]\n",
      "copy at broadcast.jl:885 [inlined]\n",
      "materialize(bc::Base.Broadcast.Broadcasted{Base.Broadcast.DefaultArrayStyle{1}, Nothing, Base.Broadcast.var\"#41#42\"{Base.Pairs{Symbol, Any, NTuple{6, Symbol}, NamedTuple{(:properties, :project_root, :src, :credit, :nbviewer_root_url, :throw_error), Tuple{Dict{String, Any}, String, String, Bool, String, Bool}}}, typeof(DemoCards.save_democards)}, Tuple{Base.RefValue{String}, Vector{DemoCards.JuliaDemoCard}}}) at broadcast.jl:860\n",
      "save_democards(root::String, sec::DemoCards.DemoSection; properties::Dict{String, Any}, kwargs::Base.Pairs{Symbol, Any, NTuple{5, Symbol}, NamedTuple{(:project_root, :src, :credit, :nbviewer_root_url, :throw_error), Tuple{String, String, Bool, String, Bool}}}) at generate.jl:396\n",
      "save_democards at generate.jl:392 [inlined]\n",
      "#41 at broadcast.jl:1283 [inlined]\n",
      "_broadcast_getindex_evalf at broadcast.jl:670 [inlined]\n",
      "_broadcast_getindex at broadcast.jl:643 [inlined]\n",
      "getindex at broadcast.jl:597 [inlined]\n",
      "copy at broadcast.jl:899 [inlined]\n",
      "materialize at broadcast.jl:860 [inlined]\n",
      "save_democards(root::String, page::DemoCards.DemoPage; kwargs::Base.Pairs{Symbol, Any, NTuple{5, Symbol}, NamedTuple{(:project_root, :src, :credit, :nbviewer_root_url, :throw_error), Tuple{String, String, Bool, String, Bool}}}) at generate.jl:389\n",
      "save_democards at generate.jl:388 [inlined]\n",
      "makedemos(source::String, templates::Nothing; root::String, src::String, build::String, branch::String, edit_branch::String, credit::Bool, throw_error::Bool) at generate.jl:192\n",
      "makedemos at generate.jl:97 [inlined]\n",
      "(::DemoCards.var\"#makedemos##kw\")(::NamedTuple{(:throw_error,), Tuple{Bool}}, ::typeof(makedemos), source::String) at generate.jl:97\n",
      "top-level scope at make.jl:10\n",
      "eval at boot.jl:373 [inlined]\n",
      "include_string(mapexpr::typeof(identity), mod::Module, code::String, filename::String) at loading.jl:1196\n",
      "_include(mapexpr::Function, mod::Module, _path::String) at loading.jl:1253\n",
      "include(fname::String) at client.jl:451\n",
      "top-level scope at none:2\n",
      "eval at boot.jl:373 [inlined]\n",
      "exec_options(opts::Base.JLOptions) at client.jl:268\n",
      "_start() at client.jl:495\n"
     ]
    }
   ],
   "cell_type": "code",
   "source": [
    "max_questions = 99\n",
    "integrator = FixedGKIntegrator(-6, 6, 80)\n",
    "dist_ability_est = PriorAbilityEstimator(std_normal)\n",
    "ability_estimator = MeanAbilityEstimator(dist_ability_est, integrator)\n",
    "rules = CatRules(\n",
    "    ability_estimator,\n",
    "    AbilityVarianceStateCriterion(dist_ability_est, integrator),\n",
    "    FixedItemsTerminationCondition(max_questions)\n",
    ")\n",
    "\n",
    "points = 500\n",
    "xs = range(-2.5, 2.5, length=points)\n",
    "raw_estimator = LikelihoodAbilityEstimator()\n",
    "recorder = CatRecorder(xs, responses, integrator, raw_estimator, ability_estimator)\n",
    "for testee_idx in axes(responses, 2)\n",
    "    tracked_responses, θ = run_cat(\n",
    "        CatLoopConfig(\n",
    "            rules=rules,\n",
    "            get_response=auto_responder(@view responses[:, testee_idx]),\n",
    "            new_response_callback=(tracked_responses, terminating) -> recorder(tracked_responses, testee_idx, terminating),\n",
    "        ),\n",
    "        item_bank\n",
    "    )\n",
    "    true_θ = abilities[testee_idx]\n",
    "    abs_err = abs(θ - true_θ)\n",
    "end"
   ],
   "metadata": {},
   "execution_count": 3
  },
  {
   "cell_type": "markdown",
   "source": [
    "Make a plot showing how the estimated value evolves during the CAT.\n",
    "We also plot the 'true' values used to generate the responses."
   ],
   "metadata": {}
  },
  {
   "outputs": [
    {
     "output_type": "execute_result",
     "data": {
      "text/plain": "FigureGrid()",
      "text/html": [
       "<div data-jscall-id=\"2\"><script data-jscall-id=\"3\" type=\"text/javascript\">\n",
       "    function register_resize_handler(remote_origin) {\n",
       "        function resize_callback(event) {\n",
       "            if (event.origin !== remote_origin) {\n",
       "                return;\n",
       "            }\n",
       "            const uuid = event.data[0];\n",
       "            const width = event.data[1];\n",
       "            const height = event.data[2];\n",
       "            const iframe = document.getElementById('d9f0b9a3-524e-44c3-b2b8-0d06e1a09d03');\n",
       "            if (iframe) {\n",
       "                iframe.style.width = width + \"px\";\n",
       "                iframe.style.height = height + \"px\";\n",
       "            }\n",
       "        }\n",
       "        if (window.addEventListener) {\n",
       "            window.addEventListener(\"message\", resize_callback, false);\n",
       "        } else if (window.attachEvent) {\n",
       "            window.attachEvent(\"onmessage\", resize_callback);\n",
       "        }\n",
       "    }\n",
       "    register_resize_handler('http://127.0.0.1:9284')\n",
       "\n",
       "</script><iframe scrolling=\"no\" id=\"d9f0b9a3-524e-44c3-b2b8-0d06e1a09d03\" data-jscall-id=\"1\" src=\"http://127.0.0.1:9284/d9f0b9a3-524e-44c3-b2b8-0d06e1a09d03\" style=\"position: relative; display: block; width: 100%; height: 100%; padding: 0; overflow: hidden; border: none\"></iframe></div>\n"
      ]
     },
     "metadata": {},
     "execution_count": 4
    }
   ],
   "cell_type": "code",
   "source": [
    "conv_lines_fig = ability_evolution_lines(recorder; abilities=abilities)\n",
    "conv_lines_fig"
   ],
   "metadata": {},
   "execution_count": 4
  },
  {
   "cell_type": "markdown",
   "source": [
    "Make an interactive plot, showing how the distribution of the ability\n",
    "likelihood evolves."
   ],
   "metadata": {}
  },
  {
   "outputs": [
    {
     "output_type": "execute_result",
     "data": {
      "text/plain": "Figure()",
      "text/html": [
       "<div data-jscall-id=\"5\"><script data-jscall-id=\"6\" type=\"text/javascript\">\n",
       "    function register_resize_handler(remote_origin) {\n",
       "        function resize_callback(event) {\n",
       "            if (event.origin !== remote_origin) {\n",
       "                return;\n",
       "            }\n",
       "            const uuid = event.data[0];\n",
       "            const width = event.data[1];\n",
       "            const height = event.data[2];\n",
       "            const iframe = document.getElementById('fee0a147-6539-4d30-a3dd-687371174472');\n",
       "            if (iframe) {\n",
       "                iframe.style.width = width + \"px\";\n",
       "                iframe.style.height = height + \"px\";\n",
       "            }\n",
       "        }\n",
       "        if (window.addEventListener) {\n",
       "            window.addEventListener(\"message\", resize_callback, false);\n",
       "        } else if (window.attachEvent) {\n",
       "            window.attachEvent(\"onmessage\", resize_callback);\n",
       "        }\n",
       "    }\n",
       "    register_resize_handler('http://127.0.0.1:9284')\n",
       "\n",
       "</script><iframe scrolling=\"no\" id=\"fee0a147-6539-4d30-a3dd-687371174472\" data-jscall-id=\"4\" src=\"http://127.0.0.1:9284/fee0a147-6539-4d30-a3dd-687371174472\" style=\"position: relative; display: block; width: 100%; height: 100%; padding: 0; overflow: hidden; border: none\"></iframe></div>\n"
      ]
     },
     "metadata": {},
     "execution_count": 5
    }
   ],
   "cell_type": "code",
   "source": [
    "conv_dist_fig = lh_evolution_interactive(recorder; abilities=abilities)\n",
    "conv_dist_fig"
   ],
   "metadata": {},
   "execution_count": 5
  },
  {
   "cell_type": "markdown",
   "source": [
    "---\n",
    "\n",
    "*This notebook was generated using [Literate.jl](https://github.com/fredrikekre/Literate.jl).*"
   ],
   "metadata": {}
  }
 ],
 "nbformat_minor": 3,
 "metadata": {
  "language_info": {
   "file_extension": ".jl",
   "mimetype": "application/julia",
   "name": "julia",
   "version": "1.7.3"
  },
  "kernelspec": {
   "name": "julia-1.7",
   "display_name": "Julia 1.7.3",
   "language": "julia"
  }
 },
 "nbformat": 4
}
