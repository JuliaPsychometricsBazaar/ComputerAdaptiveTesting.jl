{
 "cells": [
  {
   "cell_type": "markdown",
   "source": [
    "# Running a CAT based on a synthetic correct/incorrect 3PL IRT model\n",
    "\n",
    "This example shows how to run a CAT based on a synthetic correct/incorrect 3PL\n",
    "IRT model."
   ],
   "metadata": {}
  },
  {
   "cell_type": "markdown",
   "source": [
    "Import order is important. We put ComputerAdaptiveTesting last so we get the\n",
    "extra dependencies."
   ],
   "metadata": {}
  },
  {
   "outputs": [],
   "cell_type": "code",
   "source": [
    "using Makie\n",
    "import Pkg\n",
    "import Random\n",
    "using Distributions: Normal, cdf\n",
    "using AlgebraOfGraphics\n",
    "using ComputerAdaptiveTesting\n",
    "using ComputerAdaptiveTesting.ExtraDistributions: NormalScaledLogistic\n",
    "using ComputerAdaptiveTesting.Sim: auto_responder\n",
    "using ComputerAdaptiveTesting.NextItemRules: AbilityVarianceStateCriterion\n",
    "using ComputerAdaptiveTesting.TerminationConditions: FixedItemsTerminationCondition\n",
    "using ComputerAdaptiveTesting.Aggregators: PriorAbilityEstimator, MeanAbilityEstimator, LikelihoodAbilityEstimator\n",
    "using ComputerAdaptiveTesting.ItemBanks\n",
    "using ComputerAdaptiveTesting.Integrators\n",
    "using ComputerAdaptiveTesting.Responses: BooleanResponse\n",
    "import ComputerAdaptiveTesting.IntegralCoeffs\n",
    "using CATPlots\n",
    "\n",
    "@automakie()"
   ],
   "metadata": {},
   "execution_count": 1
  },
  {
   "cell_type": "markdown",
   "source": [
    "Now we are read to generate our synthetic data using the supplied DummyData\n",
    "module. We generate an item bank with 100 items and fake responses for 3\n",
    "testees."
   ],
   "metadata": {}
  },
  {
   "outputs": [
    {
     "output_type": "execute_result",
     "data": {
      "text/plain": "(ComputerAdaptiveTesting.ItemBanks.GuessItemBank{ComputerAdaptiveTesting.ItemBanks.TransferItemBank{Distributions.Logistic{Float64}}}([0.0, 0.17176892048888412, 0.015643629902587376, 0.23425260511520915, 0.12892677410136397, 0.03735326011725849, 0.37865893081798413, 0.12812735767542224, 0.0, 0.0  …  0.1587086985139569, 0.2743254853536794, 0.4206725338713801, 0.15526976282675936, 0.09518114581980214, 0.22425556495163954, 0.23192259678530097, 0.1771433348225937, 0.0, 0.12689126439970433], ComputerAdaptiveTesting.ItemBanks.TransferItemBank{Distributions.Logistic{Float64}}(Distributions.Logistic{Float64}(μ=0.0, θ=0.5875440658049353), [-0.6425828343543907, 0.24383288012995427, -0.41848708953150626, 0.927641835500544, 1.056795225290985, 0.43438990518858667, -1.6488822098289737, -1.2891704584234271, 0.21403054507929237, 0.9397972130662986  …  -0.4761191623879047, -3.1696010756358435, -1.484471375793503, -0.5750842004209689, -0.606843966647153, -0.8795553957982408, -0.35234873518671095, -0.21515589049624587, 0.9904984619439282, -0.6097759006819014], [0.6934581745587656, 0.9414711404010458, 0.9197919557968499, 0.9041465962675702, 0.9695777296660113, 0.9767104020645, 0.9718049368964071, 0.7924638862842507, 1.2718291131447792, 0.9211019081623422  …  1.2435226615713446, 0.7349265055391883, 1.3345737891540526, 0.9558894720203761, 1.233725926580505, 0.8970879532853798, 1.429237365418628, 0.9321027748737553, 1.0037545038383109, 0.8278598157173139], nothing)), [\"Reprehenderit deserunt aut adipisci nihil omnis quisquam alias dolorum.\", \"Ipsum nemo distinctio aut ex velit rerum dicta dolorem veritatis eaque.\", \"Illum voluptatem enim ex est optio debitis.\", \"Ut nulla ipsum voluptatum quidem veniam harum qui.\", \"Ipsum eum commodi.\", \"Et ad nemo praesentium eveniet mollitia.\", \"Deserunt minima necessitatibus autem nam repudiandae cum ut voluptatem possimus possimus.\", \"Sapiente molestiae atque et aspernatur aut eos.\", \"Et et officiis minima est sunt dignissimos itaque iure sunt vitae.\", \"Ut.\"  …  \"Sunt dignissimos quis alias maxime.\", \"Saepe neque explicabo error fuga modi et.\", \"Delectus nulla suscipit culpa illum consequatur explicabo quis.\", \"Aut sit.\", \"Consequatur.\", \"Optio et dolore asperiores excepturi delectus molestiae.\", \"Consequatur.\", \"Modi animi.\", \"Ut dolor.\", \"Aut natus odio repudiandae vel unde ex eos.\"], [-1.7356239458223435, -0.8744698868893551, -2.3374185946895665], Bool[0 1 1; 1 1 0; … ; 0 0 0; 0 0 0])"
     },
     "metadata": {},
     "execution_count": 2
    }
   ],
   "cell_type": "code",
   "source": [
    "using ComputerAdaptiveTesting.DummyData: dummy_full, std_normal, SimpleItemBankSpec, StdModel3PL\n",
    "using ComputerAdaptiveTesting.MathTraits\n",
    "(item_bank, question_labels, abilities, responses) = dummy_full(\n",
    "    Random.default_rng(42),\n",
    "    SimpleItemBankSpec(StdModel3PL(), OneDimContinuousDomain(), BooleanResponse());\n",
    "    num_questions=100,\n",
    "    num_testees=3\n",
    ")"
   ],
   "metadata": {},
   "execution_count": 2
  },
  {
   "cell_type": "markdown",
   "source": [
    "Simulate a CAT for each testee and record it using CatRecorder.\n",
    "CatRecorder collects information which can be used to draw different types of plots."
   ],
   "metadata": {}
  },
  {
   "outputs": [],
   "cell_type": "code",
   "source": [
    "max_questions = 99\n",
    "integrator = FixedGKIntegrator(-6, 6, 80)\n",
    "dist_ability_est = PriorAbilityEstimator(std_normal)\n",
    "ability_estimator = MeanAbilityEstimator(dist_ability_est, integrator)\n",
    "rules = CatRules(\n",
    "    ability_estimator,\n",
    "    AbilityVarianceStateCriterion(dist_ability_est, integrator),\n",
    "    FixedItemsTerminationCondition(max_questions)\n",
    ")\n",
    "\n",
    "points = 500\n",
    "xs = range(-2.5, 2.5, length=points)\n",
    "raw_estimator = LikelihoodAbilityEstimator()\n",
    "recorder = CatRecorder(xs, responses, integrator, raw_estimator, ability_estimator)\n",
    "for testee_idx in axes(responses, 2)\n",
    "    tracked_responses, θ = run_cat(\n",
    "        CatLoopConfig(\n",
    "            rules=rules,\n",
    "            get_response=auto_responder(@view responses[:, testee_idx]),\n",
    "            new_response_callback=(tracked_responses, terminating) -> recorder(tracked_responses, testee_idx, terminating),\n",
    "        ),\n",
    "        item_bank\n",
    "    )\n",
    "    true_θ = abilities[testee_idx]\n",
    "    abs_err = abs(θ - true_θ)\n",
    "end"
   ],
   "metadata": {},
   "execution_count": 3
  },
  {
   "cell_type": "markdown",
   "source": [
    "Make a plot showing how the estimated value evolves during the CAT.\n",
    "We also plot the 'true' values used to generate the responses."
   ],
   "metadata": {}
  },
  {
   "outputs": [
    {
     "output_type": "execute_result",
     "data": {
      "text/plain": "FigureGrid()",
      "text/html": [
       "<div data-jscall-id=\"2\"><script data-jscall-id=\"3\" type=\"text/javascript\">\n",
       "    function register_resize_handler(remote_origin) {\n",
       "        function resize_callback(event) {\n",
       "            if (event.origin !== remote_origin) {\n",
       "                return;\n",
       "            }\n",
       "            const uuid = event.data[0];\n",
       "            const width = event.data[1];\n",
       "            const height = event.data[2];\n",
       "            const iframe = document.getElementById('4f6864be-757d-4fb4-b3c2-5401d78a843c');\n",
       "            if (iframe) {\n",
       "                iframe.style.width = width + \"px\";\n",
       "                iframe.style.height = height + \"px\";\n",
       "            }\n",
       "        }\n",
       "        if (window.addEventListener) {\n",
       "            window.addEventListener(\"message\", resize_callback, false);\n",
       "        } else if (window.attachEvent) {\n",
       "            window.attachEvent(\"onmessage\", resize_callback);\n",
       "        }\n",
       "    }\n",
       "    register_resize_handler('http://127.0.0.1:9284')\n",
       "\n",
       "</script><iframe scrolling=\"no\" id=\"4f6864be-757d-4fb4-b3c2-5401d78a843c\" data-jscall-id=\"1\" src=\"http://127.0.0.1:9284/4f6864be-757d-4fb4-b3c2-5401d78a843c\" style=\"position: relative; display: block; width: 100%; height: 100%; padding: 0; overflow: hidden; border: none\"></iframe></div>\n"
      ]
     },
     "metadata": {},
     "execution_count": 4
    }
   ],
   "cell_type": "code",
   "source": [
    "conv_lines_fig = ability_evolution_lines(recorder; abilities=abilities)\n",
    "conv_lines_fig"
   ],
   "metadata": {},
   "execution_count": 4
  },
  {
   "cell_type": "markdown",
   "source": [
    "Make an interactive plot, showing how the distribution of the ability\n",
    "likelihood evolves."
   ],
   "metadata": {}
  },
  {
   "outputs": [
    {
     "output_type": "execute_result",
     "data": {
      "text/plain": "Figure()",
      "text/html": [
       "<div data-jscall-id=\"5\"><script data-jscall-id=\"6\" type=\"text/javascript\">\n",
       "    function register_resize_handler(remote_origin) {\n",
       "        function resize_callback(event) {\n",
       "            if (event.origin !== remote_origin) {\n",
       "                return;\n",
       "            }\n",
       "            const uuid = event.data[0];\n",
       "            const width = event.data[1];\n",
       "            const height = event.data[2];\n",
       "            const iframe = document.getElementById('9d6d150c-4f9b-4981-a425-7ddb70d8fe01');\n",
       "            if (iframe) {\n",
       "                iframe.style.width = width + \"px\";\n",
       "                iframe.style.height = height + \"px\";\n",
       "            }\n",
       "        }\n",
       "        if (window.addEventListener) {\n",
       "            window.addEventListener(\"message\", resize_callback, false);\n",
       "        } else if (window.attachEvent) {\n",
       "            window.attachEvent(\"onmessage\", resize_callback);\n",
       "        }\n",
       "    }\n",
       "    register_resize_handler('http://127.0.0.1:9284')\n",
       "\n",
       "</script><iframe scrolling=\"no\" id=\"9d6d150c-4f9b-4981-a425-7ddb70d8fe01\" data-jscall-id=\"4\" src=\"http://127.0.0.1:9284/9d6d150c-4f9b-4981-a425-7ddb70d8fe01\" style=\"position: relative; display: block; width: 100%; height: 100%; padding: 0; overflow: hidden; border: none\"></iframe></div>\n"
      ]
     },
     "metadata": {},
     "execution_count": 5
    }
   ],
   "cell_type": "code",
   "source": [
    "conv_dist_fig = lh_evolution_interactive(recorder; abilities=abilities)\n",
    "conv_dist_fig"
   ],
   "metadata": {},
   "execution_count": 5
  },
  {
   "cell_type": "markdown",
   "source": [
    "---\n",
    "\n",
    "*This notebook was generated using [Literate.jl](https://github.com/fredrikekre/Literate.jl).*"
   ],
   "metadata": {}
  }
 ],
 "nbformat_minor": 3,
 "metadata": {
  "language_info": {
   "file_extension": ".jl",
   "mimetype": "application/julia",
   "name": "julia",
   "version": "1.9.0-DEV.1757"
  },
  "kernelspec": {
   "name": "julia-1.9",
   "display_name": "Julia 1.9.0-DEV.1757",
   "language": "julia"
  }
 },
 "nbformat": 4
}
