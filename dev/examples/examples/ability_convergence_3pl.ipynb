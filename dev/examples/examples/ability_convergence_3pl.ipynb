{
 "cells": [
  {
   "cell_type": "markdown",
   "source": [
    "# Running a CAT based on a synthetic correct/incorrect 3PL IRT model\n",
    "\n",
    "This example shows how to run a CAT based on a synthetic correct/incorrect 3PL\n",
    "IRT model."
   ],
   "metadata": {}
  },
  {
   "cell_type": "markdown",
   "source": [
    "Import order is important. We put ComputerAdaptiveTesting last so we get the\n",
    "extra dependencies."
   ],
   "metadata": {}
  },
  {
   "outputs": [],
   "cell_type": "code",
   "source": [
    "using Makie\n",
    "import Pkg\n",
    "import Random\n",
    "using Distributions: Normal, cdf\n",
    "using AlgebraOfGraphics\n",
    "using ComputerAdaptiveTesting\n",
    "using ComputerAdaptiveTesting.ExtraDistributions: NormalScaledLogistic\n",
    "using ComputerAdaptiveTesting.Sim: auto_responder\n",
    "using ComputerAdaptiveTesting.NextItemRules: AbilityVarianceStateCriterion\n",
    "using ComputerAdaptiveTesting.TerminationConditions: FixedItemsTerminationCondition\n",
    "using ComputerAdaptiveTesting.Aggregators: PriorAbilityEstimator, MeanAbilityEstimator, LikelihoodAbilityEstimator\n",
    "using ComputerAdaptiveTesting.ItemBanks\n",
    "using ComputerAdaptiveTesting.Integrators\n",
    "using ComputerAdaptiveTesting.Responses: BooleanResponse\n",
    "import ComputerAdaptiveTesting.IntegralCoeffs\n",
    "using CATPlots\n",
    "\n",
    "@automakie()"
   ],
   "metadata": {},
   "execution_count": 1
  },
  {
   "cell_type": "markdown",
   "source": [
    "Now we are read to generate our synthetic data using the supplied DummyData\n",
    "module. We generate an item bank with 100 items and fake responses for 3\n",
    "testees."
   ],
   "metadata": {}
  },
  {
   "outputs": [
    {
     "output_type": "execute_result",
     "data": {
      "text/plain": "(ComputerAdaptiveTesting.ItemBanks.GuessItemBank{ComputerAdaptiveTesting.ItemBanks.TransferItemBank{Distributions.Logistic{Float64}}}([0.05009926153760216, 0.006842482995374766, 0.1804990103143584, 0.0, 0.04606303607559311, 0.0, 0.0, 0.0, 0.3140655043499787, 0.0  …  0.0, 0.10050581117854676, 0.0, 0.0, 0.0, 0.03829020892488844, 0.19655905333711238, 0.2756935023062041, 0.0, 0.0], ComputerAdaptiveTesting.ItemBanks.TransferItemBank{Distributions.Logistic{Float64}}(Distributions.Logistic{Float64}(μ=0.0, θ=0.5875440658049353), [1.6110433255354544, -1.121680473800278, 0.43651385325650716, 0.9596241951011495, -0.4795390437119982, -0.29978586212162817, -0.7615020048370765, -1.7906555509685327, 0.7896019130980401, 1.0058938488914813  …  -0.4547683032982378, -0.06934738536159746, 0.2329267602546866, -0.03479294424389485, -0.46397515053149113, 2.088858763937631, -1.4475885507080912, 0.19538906503540215, -0.23532747757927455, -2.5327688266982875], [1.0774234860042422, 1.15380968954479, 0.9286612710782621, 1.0895899587119267, 0.8586047411213479, 1.0898323191351689, 0.9827773195937611, 0.9981276528180073, 0.938874798712948, 1.235854463168774  …  1.1321061432198185, 0.8085440205731654, 1.2073480752112868, 0.9973637301676626, 1.124078525457744, 0.7546895595817327, 0.8212168538325846, 0.6943747008684227, 0.8323773874090122, 0.8721481186655635], nothing)), [\"Nobis exercitationem unde.\", \"Perferendis.\", \"Aliquid fugit ex qui.\", \"Itaque et exercitationem porro blanditiis molestiae sint aut ex voluptatem et qui.\", \"Dolorum atque.\", \"Et et veritatis cumque mollitia.\", \"Qui delectus tempore rerum autem vel quisquam.\", \"Et a eum ut nihil dolor deserunt dicta error quidem voluptatum deleniti.\", \"Sed voluptatibus consectetur repellendus natus ut deserunt aut laudantium.\", \"Animi et eos enim occaecati et eos tempora omnis aut enim.\"  …  \"Et repudiandae iusto.\", \"Fugit quaerat adipisci.\", \"Odio necessitatibus dolor voluptatem fuga.\", \"Eos accusamus et fugiat eveniet distinctio vero iste.\", \"Doloremque est totam voluptatem nam facilis tenetur fuga vel.\", \"Corporis in omnis doloribus.\", \"Eum sint explicabo et necessitatibus voluptatem id.\", \"Esse sequi autem.\", \"Perferendis aliquam et adipisci suscipit nihil ducimus similique facilis.\", \"Maiores.\"], [-1.6340897193048407, -0.2155376132609811, -1.6374984032027187], Bool[0 0 0; 0 1 1; … ; 0 1 0; 0 1 0])"
     },
     "metadata": {},
     "execution_count": 2
    }
   ],
   "cell_type": "code",
   "source": [
    "using ComputerAdaptiveTesting.DummyData: dummy_full, std_normal, SimpleItemBankSpec, StdModel3PL\n",
    "using ComputerAdaptiveTesting.MathTraits\n",
    "(item_bank, question_labels, abilities, responses) = dummy_full(\n",
    "    Random.default_rng(42),\n",
    "    SimpleItemBankSpec(StdModel3PL(), OneDimContinuousDomain(), BooleanResponse());\n",
    "    num_questions=100,\n",
    "    num_testees=3\n",
    ")"
   ],
   "metadata": {},
   "execution_count": 2
  },
  {
   "cell_type": "markdown",
   "source": [
    "Simulate a CAT for each testee and record it using CatRecorder.\n",
    "CatRecorder collects information which can be used to draw different types of plots."
   ],
   "metadata": {}
  },
  {
   "outputs": [],
   "cell_type": "code",
   "source": [
    "max_questions = 99\n",
    "integrator = FixedGKIntegrator(-6, 6, 80)\n",
    "dist_ability_est = PriorAbilityEstimator(std_normal)\n",
    "ability_estimator = MeanAbilityEstimator(dist_ability_est, integrator)\n",
    "rules = CatRules(\n",
    "    ability_estimator,\n",
    "    AbilityVarianceStateCriterion(dist_ability_est, integrator),\n",
    "    FixedItemsTerminationCondition(max_questions)\n",
    ")\n",
    "\n",
    "points = 500\n",
    "xs = range(-2.5, 2.5, length=points)\n",
    "raw_estimator = LikelihoodAbilityEstimator()\n",
    "recorder = CatRecorder(xs, responses, integrator, raw_estimator, ability_estimator)\n",
    "for testee_idx in axes(responses, 2)\n",
    "    tracked_responses, θ = run_cat(\n",
    "        CatLoopConfig(\n",
    "            rules=rules,\n",
    "            get_response=auto_responder(@view responses[:, testee_idx]),\n",
    "            new_response_callback=(tracked_responses, terminating) -> recorder(tracked_responses, testee_idx, terminating),\n",
    "        ),\n",
    "        item_bank\n",
    "    )\n",
    "    true_θ = abilities[testee_idx]\n",
    "    abs_err = abs(θ - true_θ)\n",
    "end"
   ],
   "metadata": {},
   "execution_count": 3
  },
  {
   "cell_type": "markdown",
   "source": [
    "Make a plot showing how the estimated value evolves during the CAT.\n",
    "We also plot the 'true' values used to generate the responses."
   ],
   "metadata": {}
  },
  {
   "outputs": [
    {
     "output_type": "execute_result",
     "data": {
      "text/plain": "FigureGrid()",
      "text/html": [
       "<div data-jscall-id=\"2\"><script data-jscall-id=\"3\" type=\"text/javascript\">\n",
       "    function register_resize_handler(remote_origin) {\n",
       "        function resize_callback(event) {\n",
       "            if (event.origin !== remote_origin) {\n",
       "                return;\n",
       "            }\n",
       "            const uuid = event.data[0];\n",
       "            const width = event.data[1];\n",
       "            const height = event.data[2];\n",
       "            const iframe = document.getElementById('9b7c9bd5-d7e3-4d73-a9ad-039c14165f63');\n",
       "            if (iframe) {\n",
       "                iframe.style.width = width + \"px\";\n",
       "                iframe.style.height = height + \"px\";\n",
       "            }\n",
       "        }\n",
       "        if (window.addEventListener) {\n",
       "            window.addEventListener(\"message\", resize_callback, false);\n",
       "        } else if (window.attachEvent) {\n",
       "            window.attachEvent(\"onmessage\", resize_callback);\n",
       "        }\n",
       "    }\n",
       "    register_resize_handler('http://127.0.0.1:9284')\n",
       "\n",
       "</script><iframe scrolling=\"no\" id=\"9b7c9bd5-d7e3-4d73-a9ad-039c14165f63\" data-jscall-id=\"1\" src=\"http://127.0.0.1:9284/9b7c9bd5-d7e3-4d73-a9ad-039c14165f63\" style=\"position: relative; display: block; width: 100%; height: 100%; padding: 0; overflow: hidden; border: none\"></iframe></div>\n"
      ]
     },
     "metadata": {},
     "execution_count": 4
    }
   ],
   "cell_type": "code",
   "source": [
    "conv_lines_fig = ability_evolution_lines(recorder; abilities=abilities)\n",
    "conv_lines_fig"
   ],
   "metadata": {},
   "execution_count": 4
  },
  {
   "cell_type": "markdown",
   "source": [
    "Make an interactive plot, showing how the distribution of the ability\n",
    "likelihood evolves."
   ],
   "metadata": {}
  },
  {
   "outputs": [
    {
     "output_type": "execute_result",
     "data": {
      "text/plain": "Figure()",
      "text/html": [
       "<div data-jscall-id=\"5\"><script data-jscall-id=\"6\" type=\"text/javascript\">\n",
       "    function register_resize_handler(remote_origin) {\n",
       "        function resize_callback(event) {\n",
       "            if (event.origin !== remote_origin) {\n",
       "                return;\n",
       "            }\n",
       "            const uuid = event.data[0];\n",
       "            const width = event.data[1];\n",
       "            const height = event.data[2];\n",
       "            const iframe = document.getElementById('01740ada-2559-449b-876e-0e10d2c8d1f4');\n",
       "            if (iframe) {\n",
       "                iframe.style.width = width + \"px\";\n",
       "                iframe.style.height = height + \"px\";\n",
       "            }\n",
       "        }\n",
       "        if (window.addEventListener) {\n",
       "            window.addEventListener(\"message\", resize_callback, false);\n",
       "        } else if (window.attachEvent) {\n",
       "            window.attachEvent(\"onmessage\", resize_callback);\n",
       "        }\n",
       "    }\n",
       "    register_resize_handler('http://127.0.0.1:9284')\n",
       "\n",
       "</script><iframe scrolling=\"no\" id=\"01740ada-2559-449b-876e-0e10d2c8d1f4\" data-jscall-id=\"4\" src=\"http://127.0.0.1:9284/01740ada-2559-449b-876e-0e10d2c8d1f4\" style=\"position: relative; display: block; width: 100%; height: 100%; padding: 0; overflow: hidden; border: none\"></iframe></div>\n"
      ]
     },
     "metadata": {},
     "execution_count": 5
    }
   ],
   "cell_type": "code",
   "source": [
    "conv_dist_fig = lh_evolution_interactive(recorder; abilities=abilities)\n",
    "conv_dist_fig"
   ],
   "metadata": {},
   "execution_count": 5
  },
  {
   "cell_type": "markdown",
   "source": [
    "---\n",
    "\n",
    "*This notebook was generated using [Literate.jl](https://github.com/fredrikekre/Literate.jl).*"
   ],
   "metadata": {}
  }
 ],
 "nbformat_minor": 3,
 "metadata": {
  "language_info": {
   "file_extension": ".jl",
   "mimetype": "application/julia",
   "name": "julia",
   "version": "1.9.0-DEV.1757"
  },
  "kernelspec": {
   "name": "julia-1.9",
   "display_name": "Julia 1.9.0-DEV.1757",
   "language": "julia"
  }
 },
 "nbformat": 4
}
