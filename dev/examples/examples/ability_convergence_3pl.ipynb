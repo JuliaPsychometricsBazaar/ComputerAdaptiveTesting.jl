{
 "cells": [
  {
   "cell_type": "markdown",
   "source": [
    "# Running a CAT based on a synthetic correct/incorrect 3PL IRT model\n",
    "\n",
    "This example shows how to run a CAT based on a synthetic correct/incorrect 3PL\n",
    "IRT model."
   ],
   "metadata": {}
  },
  {
   "cell_type": "markdown",
   "source": [
    "Import order is important. We put ComputerAdaptiveTesting last so we get the\n",
    "extra dependencies."
   ],
   "metadata": {}
  },
  {
   "outputs": [],
   "cell_type": "code",
   "source": [
    "using Makie\n",
    "import Pkg\n",
    "import Random\n",
    "using Distributions: Normal, cdf\n",
    "using AlgebraOfGraphics\n",
    "using ComputerAdaptiveTesting\n",
    "using ComputerAdaptiveTesting.ExtraDistributions: NormalScaledLogistic\n",
    "using ComputerAdaptiveTesting.Sim: auto_responder\n",
    "using ComputerAdaptiveTesting.NextItemRules: AbilityVarianceStateCriterion\n",
    "using ComputerAdaptiveTesting.TerminationConditions: FixedItemsTerminationCondition\n",
    "using ComputerAdaptiveTesting.Aggregators: PriorAbilityEstimator, MeanAbilityEstimator, LikelihoodAbilityEstimator\n",
    "using ComputerAdaptiveTesting.ItemBanks\n",
    "using ComputerAdaptiveTesting.Integrators\n",
    "using ComputerAdaptiveTesting.Responses: BooleanResponse\n",
    "import ComputerAdaptiveTesting.IntegralCoeffs\n",
    "using CATPlots\n",
    "\n",
    "@automakie()"
   ],
   "metadata": {},
   "execution_count": 1
  },
  {
   "cell_type": "markdown",
   "source": [
    "Now we are read to generate our synthetic data using the supplied DummyData\n",
    "module. We generate an item bank with 100 items and fake responses for 3\n",
    "testees."
   ],
   "metadata": {}
  },
  {
   "outputs": [
    {
     "output_type": "execute_result",
     "data": {
      "text/plain": "(ComputerAdaptiveTesting.ItemBanks.GuessItemBank{ComputerAdaptiveTesting.ItemBanks.TransferItemBank{Distributions.Logistic{Float64}}}([0.08156491723879482, 0.001448781891430262, 0.0, 0.029518750323261036, 0.0, 0.0, 0.0, 0.016101355806659765, 0.18119898482035068, 0.0  …  0.0, 0.01553739106903279, 0.0, 0.2848756998795014, 0.0, 0.24436533496583973, 0.0, 0.0, 0.0, 0.0], ComputerAdaptiveTesting.ItemBanks.TransferItemBank{Distributions.Logistic{Float64}}(Distributions.Logistic{Float64}(μ=0.0, θ=0.5875440658049353), [1.0427334726421664, 1.7249679082510503, -0.41927912330157296, 0.7692134054468659, -0.412546858045765, -0.16011971742336603, -1.982807686490369, -0.37525115311636087, 0.9717041102500662, 0.9096228537318689  …  0.14340128377474176, 0.6821083068284577, -2.0783006361349576, -0.1302773202224511, 1.3997808268770213, 0.4185163580126197, 0.049102006428827956, -0.38064235607564223, 1.9370965237450806, 0.14374931211191802], [0.9544513648925351, 0.6384554364350566, 0.8028002304033615, 0.9135127502573985, 0.9570713985386808, 0.8206386261020082, 0.9335440255107769, 1.2472828404925993, 1.068090989271488, 1.3447039787121087  …  0.6149272547124284, 0.9054142347950066, 0.7937741373459917, 0.9709800562281801, 0.9730759633967756, 0.957678136609992, 1.1424478013951767, 0.8741445036505797, 1.0275296660987194, 1.0687217333046863], nothing)), [\"Laboriosam et suscipit.\", \"Excepturi harum consectetur suscipit ad odit.\", \"Explicabo blanditiis vel pariatur odit et et adipisci.\", \"Dolorem neque nulla.\", \"Consequatur velit similique inventore.\", \"Necessitatibus atque non illum et est velit magni.\", \"Et quidem dolorem voluptatum laborum quod facere temporibus.\", \"Odit et distinctio.\", \"Aliquam voluptate est aut modi similique omnis dolores accusamus et qui.\", \"Exercitationem facilis soluta perspiciatis eveniet et voluptas deserunt sit alias quisquam.\"  …  \"Vel ducimus nam itaque doloremque ipsam debitis ipsum soluta asperiores est.\", \"Sit fugiat autem nisi cumque nemo qui similique enim fugiat.\", \"Quidem ut vitae autem asperiores est ipsam velit architecto fugit quisquam exercitationem.\", \"Eos vitae est est non consequatur officia.\", \"Sequi quia quibusdam ea repellat qui delectus nobis.\", \"Fuga ullam ad et possimus quae et fuga at ea ea voluptatem.\", \"Deserunt est recusandae aut nesciunt totam.\", \"Et corrupti accusantium dolor dolorum ut itaque delectus earum.\", \"Rerum.\", \"Exercitationem minima eum non animi accusamus inventore ea soluta eius.\"], [0.11444453424240986, 1.898052238046524, -0.9048070664334747], Bool[0 1 1; 0 1 0; … ; 0 0 0; 0 1 0])"
     },
     "metadata": {},
     "execution_count": 2
    }
   ],
   "cell_type": "code",
   "source": [
    "using ComputerAdaptiveTesting.DummyData: dummy_full, std_normal, SimpleItemBankSpec, StdModel3PL\n",
    "using ComputerAdaptiveTesting.MathTraits\n",
    "(item_bank, question_labels, abilities, responses) = dummy_full(\n",
    "    Random.default_rng(42),\n",
    "    SimpleItemBankSpec(StdModel3PL(), OneDimContinuousDomain(), BooleanResponse());\n",
    "    num_questions=100,\n",
    "    num_testees=3\n",
    ")"
   ],
   "metadata": {},
   "execution_count": 2
  },
  {
   "cell_type": "markdown",
   "source": [
    "Simulate a CAT for each testee and record it using CatRecorder.\n",
    "CatRecorder collects information which can be used to draw different types of plots."
   ],
   "metadata": {}
  },
  {
   "outputs": [],
   "cell_type": "code",
   "source": [
    "max_questions = 99\n",
    "integrator = FixedGKIntegrator(-6, 6, 80)\n",
    "dist_ability_est = PriorAbilityEstimator(std_normal)\n",
    "ability_estimator = MeanAbilityEstimator(dist_ability_est, integrator)\n",
    "rules = CatRules(\n",
    "    ability_estimator,\n",
    "    AbilityVarianceStateCriterion(dist_ability_est, integrator),\n",
    "    FixedItemsTerminationCondition(max_questions)\n",
    ")\n",
    "\n",
    "points = 500\n",
    "xs = range(-2.5, 2.5, length=points)\n",
    "raw_estimator = LikelihoodAbilityEstimator()\n",
    "recorder = CatRecorder(xs, responses, integrator, raw_estimator, ability_estimator)\n",
    "for testee_idx in axes(responses, 2)\n",
    "    tracked_responses, θ = run_cat(\n",
    "        CatLoopConfig(\n",
    "            rules=rules,\n",
    "            get_response=auto_responder(@view responses[:, testee_idx]),\n",
    "            new_response_callback=(tracked_responses, terminating) -> recorder(tracked_responses, testee_idx, terminating),\n",
    "        ),\n",
    "        item_bank\n",
    "    )\n",
    "    true_θ = abilities[testee_idx]\n",
    "    abs_err = abs(θ - true_θ)\n",
    "end"
   ],
   "metadata": {},
   "execution_count": 3
  },
  {
   "cell_type": "markdown",
   "source": [
    "Make a plot showing how the estimated value evolves during the CAT.\n",
    "We also plot the 'true' values used to generate the responses."
   ],
   "metadata": {}
  },
  {
   "outputs": [
    {
     "output_type": "execute_result",
     "data": {
      "text/plain": "FigureGrid()",
      "text/html": [
       "<div data-jscall-id=\"2\"><script data-jscall-id=\"3\" type=\"text/javascript\">\n",
       "    function register_resize_handler(remote_origin) {\n",
       "        function resize_callback(event) {\n",
       "            if (event.origin !== remote_origin) {\n",
       "                return;\n",
       "            }\n",
       "            const uuid = event.data[0];\n",
       "            const width = event.data[1];\n",
       "            const height = event.data[2];\n",
       "            const iframe = document.getElementById('4cd342cd-779e-407b-923b-d8b1de4eae07');\n",
       "            if (iframe) {\n",
       "                iframe.style.width = width + \"px\";\n",
       "                iframe.style.height = height + \"px\";\n",
       "            }\n",
       "        }\n",
       "        if (window.addEventListener) {\n",
       "            window.addEventListener(\"message\", resize_callback, false);\n",
       "        } else if (window.attachEvent) {\n",
       "            window.attachEvent(\"onmessage\", resize_callback);\n",
       "        }\n",
       "    }\n",
       "    register_resize_handler('http://127.0.0.1:9284')\n",
       "\n",
       "</script><iframe scrolling=\"no\" id=\"4cd342cd-779e-407b-923b-d8b1de4eae07\" data-jscall-id=\"1\" src=\"http://127.0.0.1:9284/4cd342cd-779e-407b-923b-d8b1de4eae07\" style=\"position: relative; display: block; width: 100%; height: 100%; padding: 0; overflow: hidden; border: none\"></iframe></div>\n"
      ]
     },
     "metadata": {},
     "execution_count": 4
    }
   ],
   "cell_type": "code",
   "source": [
    "conv_lines_fig = ability_evolution_lines(recorder; abilities=abilities)\n",
    "conv_lines_fig"
   ],
   "metadata": {},
   "execution_count": 4
  },
  {
   "cell_type": "markdown",
   "source": [
    "Make an interactive plot, showing how the distribution of the ability\n",
    "likelihood evolves."
   ],
   "metadata": {}
  },
  {
   "outputs": [
    {
     "output_type": "execute_result",
     "data": {
      "text/plain": "Figure()",
      "text/html": [
       "<div data-jscall-id=\"5\"><script data-jscall-id=\"6\" type=\"text/javascript\">\n",
       "    function register_resize_handler(remote_origin) {\n",
       "        function resize_callback(event) {\n",
       "            if (event.origin !== remote_origin) {\n",
       "                return;\n",
       "            }\n",
       "            const uuid = event.data[0];\n",
       "            const width = event.data[1];\n",
       "            const height = event.data[2];\n",
       "            const iframe = document.getElementById('7c4839f8-0fb2-43ad-b720-650b946647bc');\n",
       "            if (iframe) {\n",
       "                iframe.style.width = width + \"px\";\n",
       "                iframe.style.height = height + \"px\";\n",
       "            }\n",
       "        }\n",
       "        if (window.addEventListener) {\n",
       "            window.addEventListener(\"message\", resize_callback, false);\n",
       "        } else if (window.attachEvent) {\n",
       "            window.attachEvent(\"onmessage\", resize_callback);\n",
       "        }\n",
       "    }\n",
       "    register_resize_handler('http://127.0.0.1:9284')\n",
       "\n",
       "</script><iframe scrolling=\"no\" id=\"7c4839f8-0fb2-43ad-b720-650b946647bc\" data-jscall-id=\"4\" src=\"http://127.0.0.1:9284/7c4839f8-0fb2-43ad-b720-650b946647bc\" style=\"position: relative; display: block; width: 100%; height: 100%; padding: 0; overflow: hidden; border: none\"></iframe></div>\n"
      ]
     },
     "metadata": {},
     "execution_count": 5
    }
   ],
   "cell_type": "code",
   "source": [
    "conv_dist_fig = lh_evolution_interactive(recorder; abilities=abilities)\n",
    "conv_dist_fig"
   ],
   "metadata": {},
   "execution_count": 5
  },
  {
   "cell_type": "markdown",
   "source": [
    "---\n",
    "\n",
    "*This notebook was generated using [Literate.jl](https://github.com/fredrikekre/Literate.jl).*"
   ],
   "metadata": {}
  }
 ],
 "nbformat_minor": 3,
 "metadata": {
  "language_info": {
   "file_extension": ".jl",
   "mimetype": "application/julia",
   "name": "julia",
   "version": "1.9.0-DEV.1763"
  },
  "kernelspec": {
   "name": "julia-1.9",
   "display_name": "Julia 1.9.0-DEV.1763",
   "language": "julia"
  }
 },
 "nbformat": 4
}
