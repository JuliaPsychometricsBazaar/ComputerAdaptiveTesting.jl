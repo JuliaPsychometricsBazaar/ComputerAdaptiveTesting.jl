{
 "cells": [
  {
   "cell_type": "markdown",
   "source": [
    "# Running a CAT based on a synthetic correct/incorrect MIRT model\n",
    "\n",
    "This example shows how to run a CAT based on a synthetic correct/incorrect\n",
    "MIRT model."
   ],
   "metadata": {}
  },
  {
   "cell_type": "markdown",
   "source": [
    "Import order is important. We put ComputerAdaptiveTesting last so we get the\n",
    "extra dependencies."
   ],
   "metadata": {}
  },
  {
   "outputs": [],
   "cell_type": "code",
   "source": [
    "using Makie\n",
    "import Pkg\n",
    "import Random\n",
    "using Distributions: Normal, cdf\n",
    "using AlgebraOfGraphics\n",
    "using ComputerAdaptiveTesting\n",
    "using ComputerAdaptiveTesting.Sim: auto_responder\n",
    "using ComputerAdaptiveTesting.NextItemRules: DRuleItemCriterion\n",
    "using ComputerAdaptiveTesting.TerminationConditions: FixedItemsTerminationCondition\n",
    "using ComputerAdaptiveTesting.Aggregators: PriorAbilityEstimator, MeanAbilityEstimator, LikelihoodAbilityEstimator\n",
    "using FittedItemBanks\n",
    "import PsychometricsBazaarBase.IntegralCoeffs\n",
    "using PsychometricsBazaarBase.Integrators\n",
    "using PsychometricsBazaarBase.ConstDistributions: normal_scaled_logistic\n",
    "using CATPlots\n",
    "\n",
    "@automakie()"
   ],
   "metadata": {},
   "execution_count": null
  },
  {
   "cell_type": "markdown",
   "source": [
    "Now we are read to generate our synthetic data using the supplied DummyData\n",
    "module. We generate an item bank with 100 items and fake responses for 3\n",
    "testees."
   ],
   "metadata": {}
  },
  {
   "outputs": [],
   "cell_type": "code",
   "source": [
    "dims = 2\n",
    "using FittedItemBanks.DummyData: dummy_full, std_mv_normal, SimpleItemBankSpec, StdModel4PL\n",
    "using ComputerAdaptiveTesting.Responses: BooleanResponse"
   ],
   "metadata": {},
   "execution_count": null
  },
  {
   "cell_type": "markdown",
   "source": [
    "TODO: pass in dims"
   ],
   "metadata": {}
  },
  {
   "outputs": [],
   "cell_type": "code",
   "source": [
    "(item_bank, abilities, responses) = dummy_full(\n",
    "    Random.default_rng(42),\n",
    "    SimpleItemBankSpec(StdModel4PL(), VectorContinuousDomain(), BooleanResponse()),\n",
    "    dims;\n",
    "    num_questions=10,\n",
    "    num_testees=2\n",
    ")"
   ],
   "metadata": {},
   "execution_count": null
  },
  {
   "cell_type": "markdown",
   "source": [
    "Simulate a CAT for each testee and record it using CatRecorder.\n",
    "CatRecorder collects information which can be used to draw different types of plots."
   ],
   "metadata": {}
  },
  {
   "outputs": [],
   "cell_type": "code",
   "source": [
    "max_questions = 9\n",
    "integrator = CubaIntegrator([-6.0, -6.0], [6.0, 6.0], CubaVegas(); rtol=1e-2)\n",
    "ability_estimator = MeanAbilityEstimator(PriorAbilityEstimator(std_mv_normal(dims)), integrator)\n",
    "rules = CatRules(\n",
    "    ability_estimator,\n",
    "    DRuleItemCriterion(ability_estimator),\n",
    "    FixedItemsTerminationCondition(max_questions)\n",
    ")"
   ],
   "metadata": {},
   "execution_count": null
  },
  {
   "cell_type": "markdown",
   "source": [
    "XXX: We shouldn't need to specify xs here since the distributions are not used -- rework"
   ],
   "metadata": {}
  },
  {
   "outputs": [],
   "cell_type": "code",
   "source": [
    "points = 3\n",
    "xs = repeat(range(-2.5, 2.5, length=points)', dims, 1)\n",
    "raw_estimator = LikelihoodAbilityEstimator()\n",
    "recorder = CatRecorder(xs, responses, integrator, raw_estimator, ability_estimator, abilities)\n",
    "for testee_idx in axes(responses, 2)\n",
    "    @debug \"Running for testee\" testee_idx\n",
    "    tracked_responses, θ = run_cat(\n",
    "        CatLoopConfig(\n",
    "            rules=rules,\n",
    "            get_response=auto_responder(@view responses[:, testee_idx]),\n",
    "            new_response_callback=(tracked_responses, terminating) -> recorder(tracked_responses, testee_idx, terminating),\n",
    "        ),\n",
    "        item_bank\n",
    "    )\n",
    "    true_θ = abilities[:, testee_idx]\n",
    "    abs_err = sum(abs.(θ .- true_θ))\n",
    "    @info \"convergence\" true_θ θ abs_err\n",
    "end"
   ],
   "metadata": {},
   "execution_count": null
  },
  {
   "cell_type": "markdown",
   "source": [
    "Make a plot showing how the estimated value converges during the CAT."
   ],
   "metadata": {}
  },
  {
   "outputs": [],
   "cell_type": "code",
   "source": [
    "conv_lines_fig = ability_convergence_lines(recorder; abilities=abilities)\n",
    "conv_lines_fig"
   ],
   "metadata": {},
   "execution_count": null
  },
  {
   "cell_type": "markdown",
   "source": [
    "---\n",
    "\n",
    "*This notebook was generated using [Literate.jl](https://github.com/fredrikekre/Literate.jl).*"
   ],
   "metadata": {}
  }
 ],
 "nbformat_minor": 3,
 "metadata": {
  "language_info": {
   "file_extension": ".jl",
   "mimetype": "application/julia",
   "name": "julia",
   "version": "1.9.4"
  },
  "kernelspec": {
   "name": "julia-1.9",
   "display_name": "Julia 1.9.4",
   "language": "julia"
  }
 },
 "nbformat": 4
}
