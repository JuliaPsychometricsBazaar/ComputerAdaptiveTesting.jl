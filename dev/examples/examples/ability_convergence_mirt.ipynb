{
 "cells": [
  {
   "cell_type": "markdown",
   "source": [
    "# Running a CAT based on a synthetic correct/incorrect MIRT model\n",
    "\n",
    "This example shows how to run a CAT based on a synthetic correct/incorrect\n",
    "MIRT model."
   ],
   "metadata": {}
  },
  {
   "cell_type": "markdown",
   "source": [
    "Import order is important. We put ComputerAdaptiveTesting last so we get the\n",
    "extra dependencies."
   ],
   "metadata": {}
  },
  {
   "outputs": [],
   "cell_type": "code",
   "source": [
    "using Makie\n",
    "import Pkg\n",
    "import Random\n",
    "using Distributions: Normal, cdf\n",
    "using AlgebraOfGraphics\n",
    "using ComputerAdaptiveTesting\n",
    "using ComputerAdaptiveTesting.ExtraDistributions: NormalScaledLogistic\n",
    "using ComputerAdaptiveTesting.Sim: auto_responder\n",
    "using ComputerAdaptiveTesting.NextItemRules: DRuleItemCriterion\n",
    "using ComputerAdaptiveTesting.TerminationConditions: FixedItemsTerminationCondition\n",
    "using ComputerAdaptiveTesting.Aggregators: PriorAbilityEstimator, MeanAbilityEstimator, LikelihoodAbilityEstimator\n",
    "using ComputerAdaptiveTesting.ItemBanks\n",
    "using ComputerAdaptiveTesting.Integrators\n",
    "import ComputerAdaptiveTesting.IntegralCoeffs\n",
    "using CATPlots\n",
    "\n",
    "@automakie()"
   ],
   "metadata": {},
   "execution_count": 1
  },
  {
   "cell_type": "markdown",
   "source": [
    "Now we are read to generate our synthetic data using the supplied DummyData\n",
    "module. We generate an item bank with 100 items and fake responses for 3\n",
    "testees."
   ],
   "metadata": {}
  },
  {
   "outputs": [],
   "cell_type": "code",
   "source": [
    "dims = 2\n",
    "using ComputerAdaptiveTesting.DummyData: dummy_full, std_mv_normal, SimpleItemBankSpec, StdModel4PL\n",
    "using ComputerAdaptiveTesting.MathTraits\n",
    "using ComputerAdaptiveTesting.Responses: BooleanResponse"
   ],
   "metadata": {},
   "execution_count": 2
  },
  {
   "cell_type": "markdown",
   "source": [
    "TODO: pass in dims"
   ],
   "metadata": {}
  },
  {
   "outputs": [
    {
     "output_type": "execute_result",
     "data": {
      "text/plain": "(ComputerAdaptiveTesting.ItemBanks.SlipItemBank{ComputerAdaptiveTesting.ItemBanks.GuessItemBank{ComputerAdaptiveTesting.ItemBanks.CdfMirtItemBank{Distributions.Logistic{Float64}}}}([0.15985979921475818, 0.05776653910283313, 0.0, 0.12491046639792057, 0.0, 0.0, 0.16039115407259674, 0.14939183784418641, 0.24994479030198857, 0.15838910674738643], ComputerAdaptiveTesting.ItemBanks.GuessItemBank{ComputerAdaptiveTesting.ItemBanks.CdfMirtItemBank{Distributions.Logistic{Float64}}}([0.29719187358604565, 0.0, 0.0, 0.0, 0.0, 0.23911909050392627, 0.32090443034096733, 0.0, 0.0, 0.0], ComputerAdaptiveTesting.ItemBanks.CdfMirtItemBank{Distributions.Logistic{Float64}}(Distributions.Logistic{Float64}(μ=0.0, θ=0.5875440658049353), [-0.9104324071228524, -0.5692091009934306, -1.1279068329115067, 0.3893049817317737, -0.9397053810165131, 1.190671565315947, -2.1611673459798344, -0.8258366987771657, 0.06413894067866721, -0.4574389364112896], [0.7596712416978716 1.003521659022198 … 0.7922357224775933 1.1205833432147694; 0.8994295244255497 1.0336778077680657 … 1.3657046901015597 1.0643636554215692], nothing))), [\"Soluta rem quis a vitae rerum accusamus corporis qui laboriosam.\", \"In id vero.\", \"Odit accusantium veniam.\", \"Eveniet et ullam reiciendis dicta.\", \"Qui laborum et sit reprehenderit aut.\", \"Eos similique exercitationem doloremque pariatur possimus soluta voluptas et nulla.\", \"Nihil at totam veritatis eveniet sit est.\", \"Est quia harum eaque necessitatibus rerum assumenda illum nostrum non unde debitis.\", \"Sint quis delectus ducimus ratione dolore.\", \"Enim.\"], [-1.0953633562092246 1.157144525872549; 0.03348099200195957 -0.6472271240703346], Bool[1 1; 0 1; … ; 0 1; 0 1])"
     },
     "metadata": {},
     "execution_count": 3
    }
   ],
   "cell_type": "code",
   "source": [
    "(item_bank, question_labels, abilities, responses) = dummy_full(\n",
    "    Random.default_rng(42),\n",
    "    SimpleItemBankSpec(StdModel4PL(), VectorContinuousDomain(), BooleanResponse()),\n",
    "    dims;\n",
    "    num_questions=10,\n",
    "    num_testees=2\n",
    ")"
   ],
   "metadata": {},
   "execution_count": 3
  },
  {
   "cell_type": "markdown",
   "source": [
    "Simulate a CAT for each testee and record it using CatRecorder.\n",
    "CatRecorder collects information which can be used to draw different types of plots."
   ],
   "metadata": {}
  },
  {
   "outputs": [
    {
     "output_type": "execute_result",
     "data": {
      "text/plain": "CatRules\n  next_item: ComputerAdaptiveTesting.NextItemRules.ItemStrategyNextItemRule{ComputerAdaptiveTesting.NextItemRules.ExhaustiveSearch1Ply, ComputerAdaptiveTesting.NextItemRules.DRuleItemCriterion{ComputerAdaptiveTesting.Aggregators.MeanAbilityEstimator{ComputerAdaptiveTesting.Aggregators.PriorAbilityEstimator{Distributions.ZeroMeanIsoNormal{Tuple{Base.OneTo{Int64}}}}, ComputerAdaptiveTesting.Aggregators.FunctionIntegrator{ComputerAdaptiveTesting.Integrators.CubaIntegrator{ComputerAdaptiveTesting.Integrators.CubaVegas, Base.Pairs{Symbol, Float64, Tuple{Symbol}, NamedTuple{(:rtol,), Tuple{Float64}}}}}}}}\n  termination_condition: ComputerAdaptiveTesting.TerminationConditions.FixedItemsTerminationCondition\n  ability_estimator: ComputerAdaptiveTesting.Aggregators.MeanAbilityEstimator{ComputerAdaptiveTesting.Aggregators.PriorAbilityEstimator{Distributions.ZeroMeanIsoNormal{Tuple{Base.OneTo{Int64}}}}, ComputerAdaptiveTesting.Aggregators.FunctionIntegrator{ComputerAdaptiveTesting.Integrators.CubaIntegrator{ComputerAdaptiveTesting.Integrators.CubaVegas, Base.Pairs{Symbol, Float64, Tuple{Symbol}, NamedTuple{(:rtol,), Tuple{Float64}}}}}}\n  ability_tracker: ComputerAdaptiveTesting.Aggregators.NullAbilityTracker ComputerAdaptiveTesting.Aggregators.NullAbilityTracker()\n"
     },
     "metadata": {},
     "execution_count": 4
    }
   ],
   "cell_type": "code",
   "source": [
    "max_questions = 9\n",
    "integrator = CubaIntegrator([-6.0, -6.0], [6.0, 6.0], CubaVegas(); rtol=1e-2)\n",
    "ability_estimator = MeanAbilityEstimator(PriorAbilityEstimator(std_mv_normal(dims)), integrator)\n",
    "rules = CatRules(\n",
    "    ability_estimator,\n",
    "    DRuleItemCriterion(ability_estimator),\n",
    "    FixedItemsTerminationCondition(max_questions)\n",
    ")"
   ],
   "metadata": {},
   "execution_count": 4
  },
  {
   "cell_type": "markdown",
   "source": [
    "XXX: We shouldn't need to specify xs here since the distributions are not used -- rework"
   ],
   "metadata": {}
  },
  {
   "outputs": [
    {
     "name": "stdout",
     "output_type": "stream",
     "text": [
      "┌ Info: convergence\n",
      "│   true_θ =\n",
      "│    2-element Vector{Float64}:\n",
      "│     -1.0953633562092246\n",
      "│      0.03348099200195957\n",
      "│   θ =\n",
      "│    2-element Vector{Float64}:\n",
      "│     -0.46718131986496453\n",
      "│     -0.4736832739486242\n",
      "└   abs_err = 1.1353463022948438\n",
      "┌ Info: convergence\n",
      "│   true_θ =\n",
      "│    2-element Vector{Float64}:\n",
      "│      1.157144525872549\n",
      "│     -0.6472271240703346\n",
      "│   θ =\n",
      "│    2-element Vector{Float64}:\n",
      "│     0.12475791951438912\n",
      "│     0.5880269192887828\n",
      "└   abs_err = 2.2676406497172774\n"
     ]
    }
   ],
   "cell_type": "code",
   "source": [
    "points = 3\n",
    "xs = repeat(range(-2.5, 2.5, length=points)', dims, 1)\n",
    "raw_estimator = LikelihoodAbilityEstimator()\n",
    "recorder = CatRecorder(xs, responses, integrator, raw_estimator, ability_estimator, abilities)\n",
    "for testee_idx in axes(responses, 2)\n",
    "    @debug \"Running for testee\" testee_idx\n",
    "    tracked_responses, θ = run_cat(\n",
    "        CatLoopConfig(\n",
    "            rules=rules,\n",
    "            get_response=auto_responder(@view responses[:, testee_idx]),\n",
    "            new_response_callback=(tracked_responses, terminating) -> recorder(tracked_responses, testee_idx, terminating),\n",
    "        ),\n",
    "        item_bank\n",
    "    )\n",
    "    true_θ = abilities[:, testee_idx]\n",
    "    abs_err = sum(abs.(θ .- true_θ))\n",
    "    @info \"convergence\" true_θ θ abs_err\n",
    "end"
   ],
   "metadata": {},
   "execution_count": 5
  },
  {
   "cell_type": "markdown",
   "source": [
    "Make a plot showing how the estimated value converges during the CAT."
   ],
   "metadata": {}
  },
  {
   "outputs": [
    {
     "output_type": "execute_result",
     "data": {
      "text/plain": "FigureGrid()",
      "text/html": [
       "<div data-jscall-id=\"14\"><script data-jscall-id=\"15\" type=\"text/javascript\">\n",
       "    function register_resize_handler(remote_origin) {\n",
       "        function resize_callback(event) {\n",
       "            if (event.origin !== remote_origin) {\n",
       "                return;\n",
       "            }\n",
       "            const uuid = event.data[0];\n",
       "            const width = event.data[1];\n",
       "            const height = event.data[2];\n",
       "            const iframe = document.getElementById('e34a3cce-e712-4374-a93c-285c433ca8da');\n",
       "            if (iframe) {\n",
       "                iframe.style.width = width + \"px\";\n",
       "                iframe.style.height = height + \"px\";\n",
       "            }\n",
       "        }\n",
       "        if (window.addEventListener) {\n",
       "            window.addEventListener(\"message\", resize_callback, false);\n",
       "        } else if (window.attachEvent) {\n",
       "            window.attachEvent(\"onmessage\", resize_callback);\n",
       "        }\n",
       "    }\n",
       "    register_resize_handler('http://127.0.0.1:9284')\n",
       "\n",
       "</script><iframe scrolling=\"no\" id=\"e34a3cce-e712-4374-a93c-285c433ca8da\" data-jscall-id=\"13\" src=\"http://127.0.0.1:9284/e34a3cce-e712-4374-a93c-285c433ca8da\" style=\"position: relative; display: block; width: 100%; height: 100%; padding: 0; overflow: hidden; border: none\"></iframe></div>\n"
      ]
     },
     "metadata": {},
     "execution_count": 6
    }
   ],
   "cell_type": "code",
   "source": [
    "conv_lines_fig = ability_convergence_lines(recorder; abilities=abilities)\n",
    "conv_lines_fig"
   ],
   "metadata": {},
   "execution_count": 6
  },
  {
   "cell_type": "markdown",
   "source": [
    "---\n",
    "\n",
    "*This notebook was generated using [Literate.jl](https://github.com/fredrikekre/Literate.jl).*"
   ],
   "metadata": {}
  }
 ],
 "nbformat_minor": 3,
 "metadata": {
  "language_info": {
   "file_extension": ".jl",
   "mimetype": "application/julia",
   "name": "julia",
   "version": "1.9.0-DEV.1757"
  },
  "kernelspec": {
   "name": "julia-1.9",
   "display_name": "Julia 1.9.0-DEV.1757",
   "language": "julia"
  }
 },
 "nbformat": 4
}
