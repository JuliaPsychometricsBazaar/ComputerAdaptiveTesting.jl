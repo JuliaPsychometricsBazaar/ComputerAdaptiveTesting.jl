{
 "cells": [
  {
   "cell_type": "markdown",
   "source": [
    "# Running a CAT based on a synthetic correct/incorrect MIRT model\n",
    "\n",
    "This example shows how to run a CAT based on a synthetic correct/incorrect\n",
    "MIRT model."
   ],
   "metadata": {}
  },
  {
   "cell_type": "markdown",
   "source": [
    "Import order is important. We put ComputerAdaptiveTesting last so we get the\n",
    "extra dependencies."
   ],
   "metadata": {}
  },
  {
   "outputs": [],
   "cell_type": "code",
   "source": [
    "using Makie\n",
    "import Pkg\n",
    "import Random\n",
    "using Distributions: Normal, cdf\n",
    "using AlgebraOfGraphics\n",
    "using ComputerAdaptiveTesting\n",
    "using ComputerAdaptiveTesting.ExtraDistributions: NormalScaledLogistic\n",
    "using ComputerAdaptiveTesting.Sim: auto_responder\n",
    "using ComputerAdaptiveTesting.NextItemRules: DRuleItemCriterion\n",
    "using ComputerAdaptiveTesting.TerminationConditions: FixedItemsTerminationCondition\n",
    "using ComputerAdaptiveTesting.Aggregators: PriorAbilityEstimator, MeanAbilityEstimator, LikelihoodAbilityEstimator\n",
    "using ComputerAdaptiveTesting.ItemBanks\n",
    "using ComputerAdaptiveTesting.Integrators\n",
    "import ComputerAdaptiveTesting.IntegralCoeffs\n",
    "using CATPlots\n",
    "\n",
    "@automakie()"
   ],
   "metadata": {},
   "execution_count": 1
  },
  {
   "cell_type": "markdown",
   "source": [
    "Now we are read to generate our synthetic data using the supplied DummyData\n",
    "module. We generate an item bank with 100 items and fake responses for 3\n",
    "testees."
   ],
   "metadata": {}
  },
  {
   "outputs": [],
   "cell_type": "code",
   "source": [
    "dims = 2\n",
    "using ComputerAdaptiveTesting.DummyData: dummy_full, std_mv_normal, SimpleItemBankSpec, StdModel4PL\n",
    "using ComputerAdaptiveTesting.MathTraits\n",
    "using ComputerAdaptiveTesting.Responses: BooleanResponse"
   ],
   "metadata": {},
   "execution_count": 2
  },
  {
   "cell_type": "markdown",
   "source": [
    "TODO: pass in dims"
   ],
   "metadata": {}
  },
  {
   "outputs": [
    {
     "output_type": "execute_result",
     "data": {
      "text/plain": "(ComputerAdaptiveTesting.ItemBanks.SlipItemBank{ComputerAdaptiveTesting.ItemBanks.GuessItemBank{ComputerAdaptiveTesting.ItemBanks.CdfMirtItemBank{Distributions.Logistic{Float64}}}}([0.0, 0.0, 0.16470051803438313, 0.20434519032982787, 0.2232106250114871, 0.0, 0.0, 0.368148798025053, 0.0, 0.0], ComputerAdaptiveTesting.ItemBanks.GuessItemBank{ComputerAdaptiveTesting.ItemBanks.CdfMirtItemBank{Distributions.Logistic{Float64}}}([0.0, 0.0, 0.1360736650138485, 0.40680966694187276, 0.03208125905881864, 0.07530994299752368, 0.006529406000667266, 0.12318232624245434, 0.0, 0.1779011051506347], ComputerAdaptiveTesting.ItemBanks.CdfMirtItemBank{Distributions.Logistic{Float64}}(Distributions.Logistic{Float64}(μ=0.0, θ=0.5875440658049353), [0.17586707655648473, 0.5281914214039702, -1.743425607159016, -0.2925134548881956, 1.03171287250986, 1.289362557146196, 0.9991446736933141, -0.5373256559130092, 0.037023537533112154, 0.11792593587253174], [1.039860452290571 0.9585093056236711 … 0.7495938488114743 0.7525304118462611; 1.0020045423681347 0.6378098421313427 … 1.3920756307563562 0.936113777018845], nothing))), [\"Rem quo repellat eligendi illum ut ratione non in mollitia.\", \"Rerum enim est et libero et consequuntur sint et.\", \"Sit fugit et.\", \"Praesentium ipsam ut ut voluptatem ut ipsum impedit molestiae consequuntur et qui.\", \"Quod.\", \"Aut quod itaque quis atque eos.\", \"Enim nemo molestiae delectus tempora qui eum.\", \"Ipsa asperiores est velit maxime vitae facilis est.\", \"Laborum.\", \"Sed omnis dolores et tempore repellat unde.\"], [0.4651905937702172 0.0033624072580472823; 1.1071205374759037 0.8194160266568671], Bool[1 0; 1 0; … ; 1 1; 0 1])"
     },
     "metadata": {},
     "execution_count": 3
    }
   ],
   "cell_type": "code",
   "source": [
    "(item_bank, question_labels, abilities, responses) = dummy_full(\n",
    "    Random.default_rng(42),\n",
    "    SimpleItemBankSpec(StdModel4PL(), VectorContinuousDomain(), BooleanResponse()),\n",
    "    dims;\n",
    "    num_questions=10,\n",
    "    num_testees=2\n",
    ")"
   ],
   "metadata": {},
   "execution_count": 3
  },
  {
   "cell_type": "markdown",
   "source": [
    "Simulate a CAT for each testee and record it using CatRecorder.\n",
    "CatRecorder collects information which can be used to draw different types of plots."
   ],
   "metadata": {}
  },
  {
   "outputs": [
    {
     "output_type": "execute_result",
     "data": {
      "text/plain": "CatRules\n  next_item: ComputerAdaptiveTesting.NextItemRules.ItemStrategyNextItemRule{ComputerAdaptiveTesting.NextItemRules.ExhaustiveSearch1Ply, ComputerAdaptiveTesting.NextItemRules.DRuleItemCriterion{ComputerAdaptiveTesting.Aggregators.MeanAbilityEstimator{ComputerAdaptiveTesting.Aggregators.PriorAbilityEstimator{Distributions.ZeroMeanIsoNormal{Tuple{Base.OneTo{Int64}}}}, ComputerAdaptiveTesting.Aggregators.FunctionIntegrator{ComputerAdaptiveTesting.Integrators.CubaIntegrator{ComputerAdaptiveTesting.Integrators.CubaVegas, Base.Pairs{Symbol, Float64, Tuple{Symbol}, NamedTuple{(:rtol,), Tuple{Float64}}}}}}}}\n  termination_condition: ComputerAdaptiveTesting.TerminationConditions.FixedItemsTerminationCondition\n  ability_estimator: ComputerAdaptiveTesting.Aggregators.MeanAbilityEstimator{ComputerAdaptiveTesting.Aggregators.PriorAbilityEstimator{Distributions.ZeroMeanIsoNormal{Tuple{Base.OneTo{Int64}}}}, ComputerAdaptiveTesting.Aggregators.FunctionIntegrator{ComputerAdaptiveTesting.Integrators.CubaIntegrator{ComputerAdaptiveTesting.Integrators.CubaVegas, Base.Pairs{Symbol, Float64, Tuple{Symbol}, NamedTuple{(:rtol,), Tuple{Float64}}}}}}\n  ability_tracker: ComputerAdaptiveTesting.Aggregators.NullAbilityTracker ComputerAdaptiveTesting.Aggregators.NullAbilityTracker()\n"
     },
     "metadata": {},
     "execution_count": 4
    }
   ],
   "cell_type": "code",
   "source": [
    "max_questions = 9\n",
    "integrator = CubaIntegrator([-6.0, -6.0], [6.0, 6.0], CubaVegas(); rtol=1e-2)\n",
    "ability_estimator = MeanAbilityEstimator(PriorAbilityEstimator(std_mv_normal(dims)), integrator)\n",
    "rules = CatRules(\n",
    "    ability_estimator,\n",
    "    DRuleItemCriterion(ability_estimator),\n",
    "    FixedItemsTerminationCondition(max_questions)\n",
    ")"
   ],
   "metadata": {},
   "execution_count": 4
  },
  {
   "cell_type": "markdown",
   "source": [
    "XXX: We shouldn't need to specify xs here since the distributions are not used -- rework"
   ],
   "metadata": {}
  },
  {
   "outputs": [
    {
     "name": "stdout",
     "output_type": "stream",
     "text": [
      "┌ Info: convergence\n",
      "│   true_θ =\n",
      "│    2-element Vector{Float64}:\n",
      "│     0.4651905937702172\n",
      "│     1.1071205374759037\n",
      "│   θ =\n",
      "│    2-element Vector{Float64}:\n",
      "│     0.5620728626035675\n",
      "│     0.6629815877828342\n",
      "└   abs_err = 0.5410212185264197\n",
      "┌ Info: convergence\n",
      "│   true_θ =\n",
      "│    2-element Vector{Float64}:\n",
      "│     0.0033624072580472823\n",
      "│     0.8194160266568671\n",
      "│   θ =\n",
      "│    2-element Vector{Float64}:\n",
      "│     -0.009008948337009312\n",
      "│      0.787947572489276\n",
      "└   abs_err = 0.043839809762647626\n"
     ]
    }
   ],
   "cell_type": "code",
   "source": [
    "points = 3\n",
    "xs = repeat(range(-2.5, 2.5, length=points)', dims, 1)\n",
    "raw_estimator = LikelihoodAbilityEstimator()\n",
    "recorder = CatRecorder(xs, responses, integrator, raw_estimator, ability_estimator, abilities)\n",
    "for testee_idx in axes(responses, 2)\n",
    "    @debug \"Running for testee\" testee_idx\n",
    "    tracked_responses, θ = run_cat(\n",
    "        CatLoopConfig(\n",
    "            rules=rules,\n",
    "            get_response=auto_responder(@view responses[:, testee_idx]),\n",
    "            new_response_callback=(tracked_responses, terminating) -> recorder(tracked_responses, testee_idx, terminating),\n",
    "        ),\n",
    "        item_bank\n",
    "    )\n",
    "    true_θ = abilities[:, testee_idx]\n",
    "    abs_err = sum(abs.(θ .- true_θ))\n",
    "    @info \"convergence\" true_θ θ abs_err\n",
    "end"
   ],
   "metadata": {},
   "execution_count": 5
  },
  {
   "cell_type": "markdown",
   "source": [
    "Make a plot showing how the estimated value converges during the CAT."
   ],
   "metadata": {}
  },
  {
   "outputs": [
    {
     "output_type": "execute_result",
     "data": {
      "text/plain": "FigureGrid()",
      "text/html": [
       "<div data-jscall-id=\"14\"><script data-jscall-id=\"15\" type=\"text/javascript\">\n",
       "    function register_resize_handler(remote_origin) {\n",
       "        function resize_callback(event) {\n",
       "            if (event.origin !== remote_origin) {\n",
       "                return;\n",
       "            }\n",
       "            const uuid = event.data[0];\n",
       "            const width = event.data[1];\n",
       "            const height = event.data[2];\n",
       "            const iframe = document.getElementById('208d50d2-1fd9-4629-9278-737aa8f89a1f');\n",
       "            if (iframe) {\n",
       "                iframe.style.width = width + \"px\";\n",
       "                iframe.style.height = height + \"px\";\n",
       "            }\n",
       "        }\n",
       "        if (window.addEventListener) {\n",
       "            window.addEventListener(\"message\", resize_callback, false);\n",
       "        } else if (window.attachEvent) {\n",
       "            window.attachEvent(\"onmessage\", resize_callback);\n",
       "        }\n",
       "    }\n",
       "    register_resize_handler('http://127.0.0.1:9284')\n",
       "\n",
       "</script><iframe scrolling=\"no\" id=\"208d50d2-1fd9-4629-9278-737aa8f89a1f\" data-jscall-id=\"13\" src=\"http://127.0.0.1:9284/208d50d2-1fd9-4629-9278-737aa8f89a1f\" style=\"position: relative; display: block; width: 100%; height: 100%; padding: 0; overflow: hidden; border: none\"></iframe></div>\n"
      ]
     },
     "metadata": {},
     "execution_count": 6
    }
   ],
   "cell_type": "code",
   "source": [
    "conv_lines_fig = ability_convergence_lines(recorder; abilities=abilities)\n",
    "conv_lines_fig"
   ],
   "metadata": {},
   "execution_count": 6
  },
  {
   "cell_type": "markdown",
   "source": [
    "---\n",
    "\n",
    "*This notebook was generated using [Literate.jl](https://github.com/fredrikekre/Literate.jl).*"
   ],
   "metadata": {}
  }
 ],
 "nbformat_minor": 3,
 "metadata": {
  "language_info": {
   "file_extension": ".jl",
   "mimetype": "application/julia",
   "name": "julia",
   "version": "1.9.0-DEV.1762"
  },
  "kernelspec": {
   "name": "julia-1.9",
   "display_name": "Julia 1.9.0-DEV.1762",
   "language": "julia"
  }
 },
 "nbformat": 4
}
