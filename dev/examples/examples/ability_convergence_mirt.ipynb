{
 "cells": [
  {
   "cell_type": "markdown",
   "source": [
    "# Running a CAT based on a synthetic correct/incorrect MIRT model\n",
    "\n",
    "This example shows how to run a CAT based on a synthetic correct/incorrect\n",
    "MIRT model."
   ],
   "metadata": {}
  },
  {
   "cell_type": "markdown",
   "source": [
    "Import order is important. We put ComputerAdaptiveTesting last so we get the\n",
    "extra dependencies."
   ],
   "metadata": {}
  },
  {
   "outputs": [],
   "cell_type": "code",
   "source": [
    "using Makie\n",
    "import Pkg\n",
    "import Random\n",
    "using Distributions: Normal, cdf\n",
    "using AlgebraOfGraphics\n",
    "using ComputerAdaptiveTesting\n",
    "using ComputerAdaptiveTesting.ExtraDistributions: NormalScaledLogistic\n",
    "using ComputerAdaptiveTesting.Sim: auto_responder\n",
    "using ComputerAdaptiveTesting.NextItemRules: DRuleItemCriterion\n",
    "using ComputerAdaptiveTesting.TerminationConditions: FixedItemsTerminationCondition\n",
    "using ComputerAdaptiveTesting.Aggregators: PriorAbilityEstimator, MeanAbilityEstimator, LikelihoodAbilityEstimator\n",
    "using ComputerAdaptiveTesting.ItemBanks\n",
    "using ComputerAdaptiveTesting.Integrators\n",
    "import ComputerAdaptiveTesting.IntegralCoeffs\n",
    "using CATPlots\n",
    "\n",
    "@automakie()"
   ],
   "metadata": {},
   "execution_count": 1
  },
  {
   "cell_type": "markdown",
   "source": [
    "Now we are read to generate our synthetic data using the supplied DummyData\n",
    "module. We generate an item bank with 100 items and fake responses for 3\n",
    "testees."
   ],
   "metadata": {}
  },
  {
   "outputs": [],
   "cell_type": "code",
   "source": [
    "dims = 2\n",
    "using ComputerAdaptiveTesting.DummyData: dummy_full, std_mv_normal, SimpleItemBankSpec, StdModel4PL\n",
    "using ComputerAdaptiveTesting.MathTraits\n",
    "using ComputerAdaptiveTesting.Responses: BooleanResponse"
   ],
   "metadata": {},
   "execution_count": 2
  },
  {
   "cell_type": "markdown",
   "source": [
    "TODO: pass in dims"
   ],
   "metadata": {}
  },
  {
   "outputs": [
    {
     "output_type": "execute_result",
     "data": {
      "text/plain": "(ComputerAdaptiveTesting.ItemBanks.SlipItemBank{ComputerAdaptiveTesting.ItemBanks.GuessItemBank{ComputerAdaptiveTesting.ItemBanks.CdfMirtItemBank{Distributions.Logistic{Float64}}}}([0.0, 0.1382343282990993, 0.0, 0.24494674208271242, 0.0, 0.13020393807461458, 0.14363746749942052, 0.02580369047538554, 0.15569974619691096, 0.14481295169542704], ComputerAdaptiveTesting.ItemBanks.GuessItemBank{ComputerAdaptiveTesting.ItemBanks.CdfMirtItemBank{Distributions.Logistic{Float64}}}([0.0, 0.0, 0.0, 0.0, 0.0, 0.22404360058473968, 0.08514652908113546, 0.0, 0.17792965885626957, 0.0], ComputerAdaptiveTesting.ItemBanks.CdfMirtItemBank{Distributions.Logistic{Float64}}(Distributions.Logistic{Float64}(μ=0.0, θ=0.5875440658049353), [-2.7652425945226358, -0.5631476621103746, 1.29189925613477, 0.27360227061343195, 0.4875893874936683, 1.2588017877283026, 1.2795740933509492, -0.9206574648320474, 0.9303992123396928, -2.2329610695734865], [0.9421565792307782 1.0806530110459058 … 1.2137067911403459 0.7367752019265159; 0.7844813706852078 0.8813789596406408 … 0.9530322879425274 0.906592962752496], nothing))), [\"Est sed sunt minima officia omnis ducimus et.\", \"A veniam qui quos doloremque molestias ratione.\", \"Saepe et a velit reprehenderit atque autem.\", \"Animi molestiae placeat dolore eius sunt sed iure occaecati.\", \"Ipsam voluptatum facilis quo aut ea.\", \"Quaerat impedit animi sit quaerat officiis rerum sint atque.\", \"Ab aut quas illo dolor eum laboriosam illo provident nulla repudiandae et.\", \"Sit illo ipsum reprehenderit voluptatum vel.\", \"Reiciendis ut dolor.\", \"Ut hic odit minima cupiditate et fugiat aut a sit.\"], [-0.6721282008662874 1.5586527910631833; -1.5196332773250285 -0.4253898552670672], Bool[1 1; 1 1; … ; 0 0; 1 1])"
     },
     "metadata": {},
     "execution_count": 3
    }
   ],
   "cell_type": "code",
   "source": [
    "(item_bank, question_labels, abilities, responses) = dummy_full(\n",
    "    Random.default_rng(42),\n",
    "    SimpleItemBankSpec(StdModel4PL(), VectorContinuousDomain(), BooleanResponse()),\n",
    "    dims;\n",
    "    num_questions=10,\n",
    "    num_testees=2\n",
    ")"
   ],
   "metadata": {},
   "execution_count": 3
  },
  {
   "cell_type": "markdown",
   "source": [
    "Simulate a CAT for each testee and record it using CatRecorder.\n",
    "CatRecorder collects information which can be used to draw different types of plots."
   ],
   "metadata": {}
  },
  {
   "outputs": [
    {
     "output_type": "execute_result",
     "data": {
      "text/plain": "CatRules\n  next_item: ComputerAdaptiveTesting.NextItemRules.ItemStrategyNextItemRule{ComputerAdaptiveTesting.NextItemRules.ExhaustiveSearch1Ply, ComputerAdaptiveTesting.NextItemRules.DRuleItemCriterion{ComputerAdaptiveTesting.Aggregators.MeanAbilityEstimator{ComputerAdaptiveTesting.Aggregators.PriorAbilityEstimator{Distributions.ZeroMeanIsoNormal{Tuple{Base.OneTo{Int64}}}}, ComputerAdaptiveTesting.Aggregators.FunctionIntegrator{ComputerAdaptiveTesting.Integrators.CubaIntegrator{ComputerAdaptiveTesting.Integrators.CubaVegas, Base.Pairs{Symbol, Float64, Tuple{Symbol}, NamedTuple{(:rtol,), Tuple{Float64}}}}}}}}\n  termination_condition: ComputerAdaptiveTesting.TerminationConditions.FixedItemsTerminationCondition\n  ability_estimator: ComputerAdaptiveTesting.Aggregators.MeanAbilityEstimator{ComputerAdaptiveTesting.Aggregators.PriorAbilityEstimator{Distributions.ZeroMeanIsoNormal{Tuple{Base.OneTo{Int64}}}}, ComputerAdaptiveTesting.Aggregators.FunctionIntegrator{ComputerAdaptiveTesting.Integrators.CubaIntegrator{ComputerAdaptiveTesting.Integrators.CubaVegas, Base.Pairs{Symbol, Float64, Tuple{Symbol}, NamedTuple{(:rtol,), Tuple{Float64}}}}}}\n  ability_tracker: ComputerAdaptiveTesting.Aggregators.NullAbilityTracker ComputerAdaptiveTesting.Aggregators.NullAbilityTracker()\n"
     },
     "metadata": {},
     "execution_count": 4
    }
   ],
   "cell_type": "code",
   "source": [
    "max_questions = 9\n",
    "integrator = CubaIntegrator([-6.0, -6.0], [6.0, 6.0], CubaVegas(); rtol=1e-2)\n",
    "ability_estimator = MeanAbilityEstimator(PriorAbilityEstimator(std_mv_normal(dims)), integrator)\n",
    "rules = CatRules(\n",
    "    ability_estimator,\n",
    "    DRuleItemCriterion(ability_estimator),\n",
    "    FixedItemsTerminationCondition(max_questions)\n",
    ")"
   ],
   "metadata": {},
   "execution_count": 4
  },
  {
   "cell_type": "markdown",
   "source": [
    "XXX: We shouldn't need to specify xs here since the distributions are not used -- rework"
   ],
   "metadata": {}
  },
  {
   "outputs": [
    {
     "name": "stdout",
     "output_type": "stream",
     "text": [
      "┌ Info: convergence\n",
      "│   true_θ =\n",
      "│    2-element Vector{Float64}:\n",
      "│     -0.6721282008662874\n",
      "│     -1.5196332773250285\n",
      "│   θ =\n",
      "│    2-element Vector{Float64}:\n",
      "│     -0.4947656999711673\n",
      "│     -0.5770541175102035\n",
      "└   abs_err = 1.119941660709945\n",
      "┌ Info: convergence\n",
      "│   true_θ =\n",
      "│    2-element Vector{Float64}:\n",
      "│      1.5586527910631833\n",
      "│     -0.4253898552670672\n",
      "│   θ =\n",
      "│    2-element Vector{Float64}:\n",
      "│     0.030882863128225992\n",
      "│     0.640665360989618\n",
      "└   abs_err = 2.5938251441916425\n"
     ]
    }
   ],
   "cell_type": "code",
   "source": [
    "points = 3\n",
    "xs = repeat(range(-2.5, 2.5, length=points)', dims, 1)\n",
    "raw_estimator = LikelihoodAbilityEstimator()\n",
    "recorder = CatRecorder(xs, responses, integrator, raw_estimator, ability_estimator, abilities)\n",
    "for testee_idx in axes(responses, 2)\n",
    "    @debug \"Running for testee\" testee_idx\n",
    "    tracked_responses, θ = run_cat(\n",
    "        CatLoopConfig(\n",
    "            rules=rules,\n",
    "            get_response=auto_responder(@view responses[:, testee_idx]),\n",
    "            new_response_callback=(tracked_responses, terminating) -> recorder(tracked_responses, testee_idx, terminating),\n",
    "        ),\n",
    "        item_bank\n",
    "    )\n",
    "    true_θ = abilities[:, testee_idx]\n",
    "    abs_err = sum(abs.(θ .- true_θ))\n",
    "    @info \"convergence\" true_θ θ abs_err\n",
    "end"
   ],
   "metadata": {},
   "execution_count": 5
  },
  {
   "cell_type": "markdown",
   "source": [
    "Make a plot showing how the estimated value converges during the CAT."
   ],
   "metadata": {}
  },
  {
   "outputs": [
    {
     "output_type": "execute_result",
     "data": {
      "text/plain": "FigureGrid()",
      "text/html": [
       "<div data-jscall-id=\"14\"><script data-jscall-id=\"15\" type=\"text/javascript\">\n",
       "    function register_resize_handler(remote_origin) {\n",
       "        function resize_callback(event) {\n",
       "            if (event.origin !== remote_origin) {\n",
       "                return;\n",
       "            }\n",
       "            const uuid = event.data[0];\n",
       "            const width = event.data[1];\n",
       "            const height = event.data[2];\n",
       "            const iframe = document.getElementById('d987d74f-4937-48ef-8fb2-ef8e50009339');\n",
       "            if (iframe) {\n",
       "                iframe.style.width = width + \"px\";\n",
       "                iframe.style.height = height + \"px\";\n",
       "            }\n",
       "        }\n",
       "        if (window.addEventListener) {\n",
       "            window.addEventListener(\"message\", resize_callback, false);\n",
       "        } else if (window.attachEvent) {\n",
       "            window.attachEvent(\"onmessage\", resize_callback);\n",
       "        }\n",
       "    }\n",
       "    register_resize_handler('http://127.0.0.1:9284')\n",
       "\n",
       "</script><iframe scrolling=\"no\" id=\"d987d74f-4937-48ef-8fb2-ef8e50009339\" data-jscall-id=\"13\" src=\"http://127.0.0.1:9284/d987d74f-4937-48ef-8fb2-ef8e50009339\" style=\"position: relative; display: block; width: 100%; height: 100%; padding: 0; overflow: hidden; border: none\"></iframe></div>\n"
      ]
     },
     "metadata": {},
     "execution_count": 6
    }
   ],
   "cell_type": "code",
   "source": [
    "conv_lines_fig = ability_convergence_lines(recorder; abilities=abilities)\n",
    "conv_lines_fig"
   ],
   "metadata": {},
   "execution_count": 6
  },
  {
   "cell_type": "markdown",
   "source": [
    "---\n",
    "\n",
    "*This notebook was generated using [Literate.jl](https://github.com/fredrikekre/Literate.jl).*"
   ],
   "metadata": {}
  }
 ],
 "nbformat_minor": 3,
 "metadata": {
  "language_info": {
   "file_extension": ".jl",
   "mimetype": "application/julia",
   "name": "julia",
   "version": "1.9.0-DEV.1763"
  },
  "kernelspec": {
   "name": "julia-1.9",
   "display_name": "Julia 1.9.0-DEV.1763",
   "language": "julia"
  }
 },
 "nbformat": 4
}
