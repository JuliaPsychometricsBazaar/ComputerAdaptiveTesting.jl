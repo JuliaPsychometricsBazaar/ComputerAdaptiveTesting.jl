{
 "cells": [
  {
   "cell_type": "markdown",
   "source": [
    "# Running a CAT based on a synthetic correct/incorrect MIRT model\n",
    "\n",
    "This example shows how to run a CAT based on a synthetic correct/incorrect\n",
    "MIRT model."
   ],
   "metadata": {}
  },
  {
   "cell_type": "markdown",
   "source": [
    "Import order is important. We put ComputerAdaptiveTesting last so we get the\n",
    "extra dependencies."
   ],
   "metadata": {}
  },
  {
   "outputs": [],
   "cell_type": "code",
   "source": [
    "using Makie\n",
    "import Pkg\n",
    "import Random\n",
    "using Distributions: Normal, cdf\n",
    "using AlgebraOfGraphics\n",
    "using ComputerAdaptiveTesting\n",
    "using ComputerAdaptiveTesting.ExtraDistributions: NormalScaledLogistic\n",
    "using ComputerAdaptiveTesting.Sim: auto_responder\n",
    "using ComputerAdaptiveTesting.NextItemRules: DRuleItemCriterion\n",
    "using ComputerAdaptiveTesting.TerminationConditions: FixedItemsTerminationCondition\n",
    "using ComputerAdaptiveTesting.Aggregators: PriorAbilityEstimator, MeanAbilityEstimator, LikelihoodAbilityEstimator\n",
    "using ComputerAdaptiveTesting.ItemBanks\n",
    "using ComputerAdaptiveTesting.Integrators\n",
    "import ComputerAdaptiveTesting.IntegralCoeffs\n",
    "using CATPlots\n",
    "\n",
    "@automakie()"
   ],
   "metadata": {},
   "execution_count": 1
  },
  {
   "cell_type": "markdown",
   "source": [
    "Now we are read to generate our synthetic data using the supplied DummyData\n",
    "module. We generate an item bank with 100 items and fake responses for 3\n",
    "testees."
   ],
   "metadata": {}
  },
  {
   "outputs": [],
   "cell_type": "code",
   "source": [
    "dims = 2\n",
    "using ComputerAdaptiveTesting.DummyData: dummy_full, std_mv_normal, SimpleItemBankSpec, StdModel4PL\n",
    "using ComputerAdaptiveTesting.MathTraits\n",
    "using ComputerAdaptiveTesting.Responses: BooleanResponse"
   ],
   "metadata": {},
   "execution_count": 2
  },
  {
   "cell_type": "markdown",
   "source": [
    "TODO: pass in dims"
   ],
   "metadata": {}
  },
  {
   "outputs": [
    {
     "output_type": "execute_result",
     "data": {
      "text/plain": "(ComputerAdaptiveTesting.ItemBanks.SlipItemBank{ComputerAdaptiveTesting.ItemBanks.GuessItemBank{ComputerAdaptiveTesting.ItemBanks.CdfMirtItemBank{Distributions.Logistic{Float64}}}}([0.12845117983934407, 0.1658226358061864, 0.2580670754604056, 0.0, 0.03192729066351357, 0.15706015494650374, 0.0884700162713624, 0.0, 0.0, 0.2762506922082394], ComputerAdaptiveTesting.ItemBanks.GuessItemBank{ComputerAdaptiveTesting.ItemBanks.CdfMirtItemBank{Distributions.Logistic{Float64}}}([0.0, 0.0, 0.0, 0.0, 0.11477265359889677, 0.0, 0.01970663077191055, 0.0, 0.0, 0.0], ComputerAdaptiveTesting.ItemBanks.CdfMirtItemBank{Distributions.Logistic{Float64}}(Distributions.Logistic{Float64}(μ=0.0, θ=0.5875440658049353), [-0.18880180413801906, 0.4135273676073, 0.6993587150395855, -1.4080460832318566, 1.3303423095655602, -1.3084856072527309, 0.34108006543812125, 0.068586351599637, 0.762364367327994, 1.2038656354134594], [1.102675886190874 1.1884495249189135 … 1.2730190941953097 0.8842758927319168; 1.0644986281200715 0.9813704990503709 … 0.9381141856140164 1.286624560408931], nothing))), [\"Voluptas possimus inventore.\", \"Sit molestiae.\", \"Qui adipisci ullam in eaque ab iste aspernatur.\", \"Vero quis et aliquid.\", \"Nemo eum.\", \"Dolores iusto nesciunt maiores.\", \"Voluptas ex autem quia quo.\", \"Sit et cumque nemo.\", \"Similique quod ut nam qui quidem porro.\", \"Sit quia atque minus perspiciatis.\"], [-1.8847634952213979 0.7392403346486828; -1.8408457628127677 0.4904664840993218], Bool[0 1; 0 1; … ; 0 1; 0 0])"
     },
     "metadata": {},
     "execution_count": 3
    }
   ],
   "cell_type": "code",
   "source": [
    "(item_bank, question_labels, abilities, responses) = dummy_full(\n",
    "    Random.default_rng(42),\n",
    "    SimpleItemBankSpec(StdModel4PL(), VectorContinuousDomain(), BooleanResponse()),\n",
    "    dims;\n",
    "    num_questions=10,\n",
    "    num_testees=2\n",
    ")"
   ],
   "metadata": {},
   "execution_count": 3
  },
  {
   "cell_type": "markdown",
   "source": [
    "Simulate a CAT for each testee and record it using CatRecorder.\n",
    "CatRecorder collects information which can be used to draw different types of plots."
   ],
   "metadata": {}
  },
  {
   "outputs": [
    {
     "output_type": "execute_result",
     "data": {
      "text/plain": "CatRules\n  next_item: ComputerAdaptiveTesting.NextItemRules.ItemStrategyNextItemRule{ComputerAdaptiveTesting.NextItemRules.ExhaustiveSearch1Ply, ComputerAdaptiveTesting.NextItemRules.DRuleItemCriterion{ComputerAdaptiveTesting.Aggregators.MeanAbilityEstimator{ComputerAdaptiveTesting.Aggregators.PriorAbilityEstimator{Distributions.ZeroMeanIsoNormal{Tuple{Base.OneTo{Int64}}}}, ComputerAdaptiveTesting.Aggregators.FunctionIntegrator{ComputerAdaptiveTesting.Integrators.CubaIntegrator{ComputerAdaptiveTesting.Integrators.CubaVegas, Base.Pairs{Symbol, Float64, Tuple{Symbol}, NamedTuple{(:rtol,), Tuple{Float64}}}}}}}}\n  termination_condition: ComputerAdaptiveTesting.TerminationConditions.FixedItemsTerminationCondition\n  ability_estimator: ComputerAdaptiveTesting.Aggregators.MeanAbilityEstimator{ComputerAdaptiveTesting.Aggregators.PriorAbilityEstimator{Distributions.ZeroMeanIsoNormal{Tuple{Base.OneTo{Int64}}}}, ComputerAdaptiveTesting.Aggregators.FunctionIntegrator{ComputerAdaptiveTesting.Integrators.CubaIntegrator{ComputerAdaptiveTesting.Integrators.CubaVegas, Base.Pairs{Symbol, Float64, Tuple{Symbol}, NamedTuple{(:rtol,), Tuple{Float64}}}}}}\n  ability_tracker: ComputerAdaptiveTesting.Aggregators.NullAbilityTracker ComputerAdaptiveTesting.Aggregators.NullAbilityTracker()\n"
     },
     "metadata": {},
     "execution_count": 4
    }
   ],
   "cell_type": "code",
   "source": [
    "max_questions = 9\n",
    "integrator = CubaIntegrator([-6.0, -6.0], [6.0, 6.0], CubaVegas(); rtol=1e-2)\n",
    "ability_estimator = MeanAbilityEstimator(PriorAbilityEstimator(std_mv_normal(dims)), integrator)\n",
    "rules = CatRules(\n",
    "    ability_estimator,\n",
    "    DRuleItemCriterion(ability_estimator),\n",
    "    FixedItemsTerminationCondition(max_questions)\n",
    ")"
   ],
   "metadata": {},
   "execution_count": 4
  },
  {
   "cell_type": "markdown",
   "source": [
    "XXX: We shouldn't need to specify xs here since the distributions are not used -- rework"
   ],
   "metadata": {}
  },
  {
   "outputs": [
    {
     "name": "stdout",
     "output_type": "stream",
     "text": [
      "┌ Info: convergence\n",
      "│   true_θ =\n",
      "│    2-element Vector{Float64}:\n",
      "│     -1.8847634952213979\n",
      "│     -1.8408457628127677\n",
      "│   θ =\n",
      "│    2-element Vector{Float64}:\n",
      "│     -1.3621063181522144\n",
      "│     -1.4882712136820582\n",
      "└   abs_err = 0.875231726199893\n",
      "┌ Info: convergence\n",
      "│   true_θ =\n",
      "│    2-element Vector{Float64}:\n",
      "│     0.7392403346486828\n",
      "│     0.4904664840993218\n",
      "│   θ =\n",
      "│    2-element Vector{Float64}:\n",
      "│     0.7986262947856597\n",
      "│     0.6233620279091769\n",
      "└   abs_err = 0.19228150394683208\n"
     ]
    }
   ],
   "cell_type": "code",
   "source": [
    "points = 3\n",
    "xs = repeat(range(-2.5, 2.5, length=points)', dims, 1)\n",
    "raw_estimator = LikelihoodAbilityEstimator()\n",
    "recorder = CatRecorder(xs, responses, integrator, raw_estimator, ability_estimator, abilities)\n",
    "for testee_idx in axes(responses, 2)\n",
    "    @debug \"Running for testee\" testee_idx\n",
    "    tracked_responses, θ = run_cat(\n",
    "        CatLoopConfig(\n",
    "            rules=rules,\n",
    "            get_response=auto_responder(@view responses[:, testee_idx]),\n",
    "            new_response_callback=(tracked_responses, terminating) -> recorder(tracked_responses, testee_idx, terminating),\n",
    "        ),\n",
    "        item_bank\n",
    "    )\n",
    "    true_θ = abilities[:, testee_idx]\n",
    "    abs_err = sum(abs.(θ .- true_θ))\n",
    "    @info \"convergence\" true_θ θ abs_err\n",
    "end"
   ],
   "metadata": {},
   "execution_count": 5
  },
  {
   "cell_type": "markdown",
   "source": [
    "Make a plot showing how the estimated value converges during the CAT."
   ],
   "metadata": {}
  },
  {
   "outputs": [
    {
     "output_type": "execute_result",
     "data": {
      "text/plain": "FigureGrid()",
      "text/html": [
       "<div data-jscall-id=\"14\"><script data-jscall-id=\"15\" type=\"text/javascript\">\n",
       "    function register_resize_handler(remote_origin) {\n",
       "        function resize_callback(event) {\n",
       "            if (event.origin !== remote_origin) {\n",
       "                return;\n",
       "            }\n",
       "            const uuid = event.data[0];\n",
       "            const width = event.data[1];\n",
       "            const height = event.data[2];\n",
       "            const iframe = document.getElementById('e61eae94-f455-49c5-8749-36c7835e9844');\n",
       "            if (iframe) {\n",
       "                iframe.style.width = width + \"px\";\n",
       "                iframe.style.height = height + \"px\";\n",
       "            }\n",
       "        }\n",
       "        if (window.addEventListener) {\n",
       "            window.addEventListener(\"message\", resize_callback, false);\n",
       "        } else if (window.attachEvent) {\n",
       "            window.attachEvent(\"onmessage\", resize_callback);\n",
       "        }\n",
       "    }\n",
       "    register_resize_handler('http://127.0.0.1:9284')\n",
       "\n",
       "</script><iframe scrolling=\"no\" id=\"e61eae94-f455-49c5-8749-36c7835e9844\" data-jscall-id=\"13\" src=\"http://127.0.0.1:9284/e61eae94-f455-49c5-8749-36c7835e9844\" style=\"position: relative; display: block; width: 100%; height: 100%; padding: 0; overflow: hidden; border: none\"></iframe></div>\n"
      ]
     },
     "metadata": {},
     "execution_count": 6
    }
   ],
   "cell_type": "code",
   "source": [
    "conv_lines_fig = ability_convergence_lines(recorder; abilities=abilities)\n",
    "conv_lines_fig"
   ],
   "metadata": {},
   "execution_count": 6
  },
  {
   "cell_type": "markdown",
   "source": [
    "---\n",
    "\n",
    "*This notebook was generated using [Literate.jl](https://github.com/fredrikekre/Literate.jl).*"
   ],
   "metadata": {}
  }
 ],
 "nbformat_minor": 3,
 "metadata": {
  "language_info": {
   "file_extension": ".jl",
   "mimetype": "application/julia",
   "name": "julia",
   "version": "1.9.0-DEV.1757"
  },
  "kernelspec": {
   "name": "julia-1.9",
   "display_name": "Julia 1.9.0-DEV.1757",
   "language": "julia"
  }
 },
 "nbformat": 4
}
