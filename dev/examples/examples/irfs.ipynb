{
 "cells": [
  {
   "outputs": [],
   "cell_type": "code",
   "source": [
    "using Makie\n",
    "import Pkg\n",
    "using Distributions: Normal, cdf\n",
    "using PsychometricsBazaarBase.ConstDistributions: normal_scaled_logistic\n",
    "using AdaptiveTestPlots\n",
    "\n",
    "@automakie()"
   ],
   "metadata": {},
   "execution_count": 1
  },
  {
   "cell_type": "markdown",
   "source": [
    "Typically, the logistic c.d.f. is used as the transfer function in IRT.\n",
    "However, it in an IRT context, a scaled version intended to be close to a\n",
    "normal c.d.f. is often used. The main advantage is that this is usually faster\n",
    "to compute. ComputerAdaptiveTesting provides normal_scaled_logistic, which is\n",
    "also used by default, for this purpose:"
   ],
   "metadata": {}
  },
  {
   "outputs": [
    {
     "output_type": "execute_result",
     "data": {
      "text/plain": "Figure()",
      "text/html": [
       "<div>\n",
       "  <div class=\"bonito-fragment\" id=\"1e43ed0c-ab65-4cf2-8713-564166491d07\" data-jscall-id=\"root\">\n",
       "    <div>\n",
       "      <script src=\"../../../../../../../.julia/packages/Bonito/1lY3Q/js_dependencies/Bonito.bundled.js\" type=\"module\"></script>\n",
       "      <style></style>\n",
       "      <div></div>\n",
       "    </div>\n",
       "    <div>\n",
       "      <script type=\"module\">Bonito.lock_loading(() => Bonito.init_session('1e43ed0c-ab65-4cf2-8713-564166491d07', null, 'root'))</script>\n",
       "      <span></span>\n",
       "    </div>\n",
       "  </div>\n",
       "  <div class=\"bonito-fragment\" id=\"cec0de09-f65d-4eee-a50c-edd8a4bec2e6\" data-jscall-id=\"subsession-application-dom\">\n",
       "    <div>\n",
       "      <style></style>\n",
       "      <div></div>\n",
       "    </div>\n",
       "    <div>\n",
       "      <script type=\"module\">    Bonito.lock_loading(() => {\n",
       "        return Bonito.fetch_binary('bonito/bin/ce800911340edfcc75196ae7c5f0cc0abedd036b-239007990221751549.bin').then(msgs=> Bonito.init_session('cec0de09-f65d-4eee-a50c-edd8a4bec2e6', msgs, 'sub'));\n",
       "    })\n",
       "</script>\n",
       "      <div style=\"width: 100%; height: 100%\" data-jscall-id=\"1\">\n",
       "        <canvas data-jp-suppress-context-menu style=\"display: block\" data-jscall-id=\"2\" data-lm-suppress-shortcuts=\"true\" tabindex=\"0\"></canvas>\n",
       "      </div>\n",
       "    </div>\n",
       "  </div>\n",
       "</div>"
      ]
     },
     "metadata": {},
     "execution_count": 2
    }
   ],
   "cell_type": "code",
   "source": [
    "xs = -8:0.05:8\n",
    "lines(xs, cdf.(Normal(), xs))\n",
    "lines!(xs, cdf.(normal_scaled_logistic, xs))\n",
    "current_figure()"
   ],
   "metadata": {},
   "execution_count": 2
  },
  {
   "cell_type": "markdown",
   "source": [
    "---\n",
    "\n",
    "*This notebook was generated using [Literate.jl](https://github.com/fredrikekre/Literate.jl).*"
   ],
   "metadata": {}
  }
 ],
 "nbformat_minor": 3,
 "metadata": {
  "language_info": {
   "file_extension": ".jl",
   "mimetype": "application/julia",
   "name": "julia",
   "version": "1.9.4"
  },
  "kernelspec": {
   "name": "julia-1.9",
   "display_name": "Julia 1.9.4",
   "language": "julia"
  }
 },
 "nbformat": 4
}
