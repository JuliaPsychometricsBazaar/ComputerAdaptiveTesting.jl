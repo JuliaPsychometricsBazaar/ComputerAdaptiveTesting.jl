{
 "cells": [
  {
   "outputs": [],
   "cell_type": "code",
   "source": [
    "using Makie\n",
    "import Pkg\n",
    "using Distributions: Normal, cdf\n",
    "using PsychometricsBazaarBase.ConstDistributions: normal_scaled_logistic\n",
    "using AdaptiveTestPlots\n",
    "\n",
    "@automakie()"
   ],
   "metadata": {},
   "execution_count": 1
  },
  {
   "cell_type": "markdown",
   "source": [
    "Typically, the logistic c.d.f. is used as the transfer function in IRT.\n",
    "However, it in an IRT context, a scaled version intended to be close to a\n",
    "normal c.d.f. is often used. The main advantage is that this is usually faster\n",
    "to compute. ComputerAdaptiveTesting provides normal_scaled_logistic, which is\n",
    "also used by default, for this purpose:"
   ],
   "metadata": {}
  },
  {
   "outputs": [
    {
     "output_type": "execute_result",
     "data": {
      "text/plain": "Figure()",
      "text/html": [
       "<div>\n",
       "  <div class=\"bonito-fragment\" id=\"21384a0c-bc17-433a-bc15-0203e4524b8a\" data-jscall-id=\"root\">\n",
       "    <div>\n",
       "      <script src=\"../../../../../../../.julia/packages/Bonito/vh4Oz/js_dependencies/Bonito.bundled.js\" type=\"module\"></script>\n",
       "      <style></style>\n",
       "      <div></div>\n",
       "    </div>\n",
       "    <div>\n",
       "      <script type=\"module\">Bonito.lock_loading(() => Bonito.init_session('21384a0c-bc17-433a-bc15-0203e4524b8a', null, 'root', false))</script>\n",
       "      <span></span>\n",
       "    </div>\n",
       "  </div>\n",
       "  <div class=\"bonito-fragment\" id=\"6a38e895-1fad-4433-82e2-cbd68d80cb51\" data-jscall-id=\"subsession-application-dom\">\n",
       "    <div>\n",
       "      <style></style>\n",
       "      <div></div>\n",
       "    </div>\n",
       "    <div>\n",
       "      <script type=\"module\">    Bonito.lock_loading(() => {\n",
       "        return Bonito.fetch_binary('bonito/bin/e673cf7c101479401b17c87e29b315ec2b232e83-6211862457332515343.bin').then(msgs=> Bonito.init_session('6a38e895-1fad-4433-82e2-cbd68d80cb51', msgs, 'sub', false));\n",
       "    })\n",
       "</script>\n",
       "      <div style=\"width: 100%; height: 100%\" data-jscall-id=\"1\">\n",
       "        <canvas data-jp-suppress-context-menu style=\"display: block\" data-jscall-id=\"2\" data-lm-suppress-shortcuts=\"true\" tabindex=\"0\"></canvas>\n",
       "      </div>\n",
       "    </div>\n",
       "  </div>\n",
       "</div>"
      ]
     },
     "metadata": {},
     "execution_count": 2
    }
   ],
   "cell_type": "code",
   "source": [
    "xs = -8:0.05:8\n",
    "lines(xs, cdf.(Normal(), xs))\n",
    "lines!(xs, cdf.(normal_scaled_logistic, xs))\n",
    "current_figure()"
   ],
   "metadata": {},
   "execution_count": 2
  },
  {
   "cell_type": "markdown",
   "source": [
    "---\n",
    "\n",
    "*This notebook was generated using [Literate.jl](https://github.com/fredrikekre/Literate.jl).*"
   ],
   "metadata": {}
  }
 ],
 "nbformat_minor": 3,
 "metadata": {
  "language_info": {
   "file_extension": ".jl",
   "mimetype": "application/julia",
   "name": "julia",
   "version": "1.10.7"
  },
  "kernelspec": {
   "name": "julia-1.10",
   "display_name": "Julia 1.10.7",
   "language": "julia"
  }
 },
 "nbformat": 4
}
